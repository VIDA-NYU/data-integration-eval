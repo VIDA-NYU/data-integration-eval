{
 "cells": [
  {
   "cell_type": "code",
   "execution_count": 4,
   "id": "ff939c46-0867-473b-8066-572cfd6dc849",
   "metadata": {
    "scrolled": true
   },
   "outputs": [
    {
     "data": {
      "text/plain": [
       "[['[ATT] id [VAL] id [VAL] 0 [VAL] 1 [VAL] 2 [VAL] 3 [VAL] 4 [VAL] 5 [VAL] 6 [VAL] 7 [VAL] 8 [VAL] 9 [VAL] 10 [VAL] 11 [VAL] 12 [VAL] 13 [VAL] 14 [VAL] 15 [VAL] 16 [VAL] 17 [VAL] 18',\n",
       "  '[ATT] id [VAL] 0 [VAL] 1 [VAL] 2 [VAL] 3 [VAL] 4 [VAL] 5 [VAL] 6 [VAL] 7 [VAL] 8 [VAL] 9 [VAL] 10 [VAL] 11 [VAL] 12 [VAL] 13 [VAL] 14 [VAL] 15 [VAL] 16 [VAL] 17 [VAL] 18 [VAL] 19',\n",
       "  1],\n",
       " ['[ATT] id [VAL] id [VAL] 0 [VAL] 1 [VAL] 2 [VAL] 3 [VAL] 4 [VAL] 5 [VAL] 6 [VAL] 7 [VAL] 8 [VAL] 9 [VAL] 10 [VAL] 11 [VAL] 12 [VAL] 13 [VAL] 14 [VAL] 15 [VAL] 16 [VAL] 17 [VAL] 18',\n",
       "  '[ATT] title [VAL] learning quickbooks 2007 [VAL] superstart ! fun with reading & writing ! [VAL] qb pos 6.0 basic software [VAL] math missions : the amazing arcade adventure ( grades 3-5 ) [VAL] production prem cs3 mac upgrad [VAL] video studio 11 plus [VAL] edius pro 4 [VAL] qb pos 6.0 pro multi store sw [VAL] qb credit card kit 3.0 [VAL] vegas movie studiodvd +8 plat [VAL] qb pos 6.0 pro solution hw/sw [VAL] ares rising [VAL] evergirl : pc cd-rom video game [VAL] cd384-aisk9 = cisco ios advanced ip services complete package cd [VAL] 633808063023 wasp bar code fontware complete package 10 users cd win english [VAL] 0202-034 axis camera station license 1 additional user [VAL] eu063av aba microsoft windows xp professional license and media 1 user cto english - [VAL] bb0gyna ibm informix dynamic server enterprise edition v. 9.4 media cd linux [VAL] eqzfn07-201 zetafax business edition license 5 users win [VAL] 633808390266 wasp mobileasset professional edition combo pack with spt 1800 v. 5 comp',\n",
       "  0],\n",
       " ['[ATT] id [VAL] id [VAL] 0 [VAL] 1 [VAL] 2 [VAL] 3 [VAL] 4 [VAL] 5 [VAL] 6 [VAL] 7 [VAL] 8 [VAL] 9 [VAL] 10 [VAL] 11 [VAL] 12 [VAL] 13 [VAL] 14 [VAL] 15 [VAL] 16 [VAL] 17 [VAL] 18',\n",
       "  '[ATT] manufacturer [VAL] intuit [VAL] nan [VAL] adobe software [VAL] corel corporation [VAL] canopus/grass valley [VAL] sony creative software [VAL] activision [VAL] channel sources distribution co [VAL] ipswitch [VAL] microsoft [VAL] global-software-publishing-north-america-inc [VAL] digital-leisure-inc . [VAL] imagination-international-corp [VAL] sony-media-software [VAL] sega-of-america-inc . [VAL] warner-new-media [VAL] simply-put-software-llc [VAL] riverdeep-learning-company [VAL] adobe-education-box [VAL] curious-labs-inc .',\n",
       "  0],\n",
       " ['[ATT] id [VAL] id [VAL] 0 [VAL] 1 [VAL] 2 [VAL] 3 [VAL] 4 [VAL] 5 [VAL] 6 [VAL] 7 [VAL] 8 [VAL] 9 [VAL] 10 [VAL] 11 [VAL] 12 [VAL] 13 [VAL] 14 [VAL] 15 [VAL] 16 [VAL] 17 [VAL] 18',\n",
       "  '[ATT] price [VAL] 38.99 [VAL] 8.49 [VAL] 637.99 [VAL] 12.95 [VAL] 805.99 [VAL] 103.99 [VAL] 585.99 [VAL] 1054.99 [VAL] 25.99 [VAL] 92.99 [VAL] 1474.99 [VAL] 29.95 [VAL] 14.99 [VAL] 2068.26 [VAL] 154.6 [VAL] 95.12 [VAL] 137.09 [VAL] 195.53 [VAL] 499.17 [VAL] 2021.99',\n",
       "  0],\n",
       " [\"[ATT] title [VAL] title [VAL] clickart 950 000 premier image pack ( dvd-rom ) [VAL] ca international arcserve lap/desktop oem 30pk [VAL] noah 's ark activity center ( jewel case ages 3-8 ) [VAL] peachtree by sage premium accounting for nonprofits 2007 [VAL] singing coach unlimited [VAL] emc retrospect 7.5 disk to disk windows [VAL] adobe after effects professional 6.5 upgrade from standard to professional [VAL] acad upgrade dragon naturallyspeaking pro solution 9.0 ( a289a-fd7-9 .0 ) [VAL] mia 's math adventure : just in time [VAL] disney 's 1st & 2nd grade bundle ( pixar 1st grade secret keys and aladdin reading quest ) [VAL] paper art : gift wrapping [VAL] nfs maestro solo 2006 1u [VAL] microsoft sql server standard edition 2005 64 bit cd/dvd 5 client [VAL] spy sweeper spanish [VAL] domino designer/developer v5 .0 [VAL] omnioutliner professional 3.0 [VAL] compaq comp . secure path v3.0c-netware wrkgrp 50 lic 231327-b22 ) [VAL] upg sgms 1000 incremental node [VAL] the human body\",\n",
       "  '[ATT] id [VAL] 0 [VAL] 1 [VAL] 2 [VAL] 3 [VAL] 4 [VAL] 5 [VAL] 6 [VAL] 7 [VAL] 8 [VAL] 9 [VAL] 10 [VAL] 11 [VAL] 12 [VAL] 13 [VAL] 14 [VAL] 15 [VAL] 16 [VAL] 17 [VAL] 18 [VAL] 19',\n",
       "  0],\n",
       " [\"[ATT] title [VAL] title [VAL] clickart 950 000 premier image pack ( dvd-rom ) [VAL] ca international arcserve lap/desktop oem 30pk [VAL] noah 's ark activity center ( jewel case ages 3-8 ) [VAL] peachtree by sage premium accounting for nonprofits 2007 [VAL] singing coach unlimited [VAL] emc retrospect 7.5 disk to disk windows [VAL] adobe after effects professional 6.5 upgrade from standard to professional [VAL] acad upgrade dragon naturallyspeaking pro solution 9.0 ( a289a-fd7-9 .0 ) [VAL] mia 's math adventure : just in time [VAL] disney 's 1st & 2nd grade bundle ( pixar 1st grade secret keys and aladdin reading quest ) [VAL] paper art : gift wrapping [VAL] nfs maestro solo 2006 1u [VAL] microsoft sql server standard edition 2005 64 bit cd/dvd 5 client [VAL] spy sweeper spanish [VAL] domino designer/developer v5 .0 [VAL] omnioutliner professional 3.0 [VAL] compaq comp . secure path v3.0c-netware wrkgrp 50 lic 231327-b22 ) [VAL] upg sgms 1000 incremental node [VAL] the human body\",\n",
       "  '[ATT] title [VAL] learning quickbooks 2007 [VAL] superstart ! fun with reading & writing ! [VAL] qb pos 6.0 basic software [VAL] math missions : the amazing arcade adventure ( grades 3-5 ) [VAL] production prem cs3 mac upgrad [VAL] video studio 11 plus [VAL] edius pro 4 [VAL] qb pos 6.0 pro multi store sw [VAL] qb credit card kit 3.0 [VAL] vegas movie studiodvd +8 plat [VAL] qb pos 6.0 pro solution hw/sw [VAL] ares rising [VAL] evergirl : pc cd-rom video game [VAL] cd384-aisk9 = cisco ios advanced ip services complete package cd [VAL] 633808063023 wasp bar code fontware complete package 10 users cd win english [VAL] 0202-034 axis camera station license 1 additional user [VAL] eu063av aba microsoft windows xp professional license and media 1 user cto english - [VAL] bb0gyna ibm informix dynamic server enterprise edition v. 9.4 media cd linux [VAL] eqzfn07-201 zetafax business edition license 5 users win [VAL] 633808390266 wasp mobileasset professional edition combo pack with spt 1800 v. 5 comp',\n",
       "  1],\n",
       " [\"[ATT] title [VAL] title [VAL] clickart 950 000 premier image pack ( dvd-rom ) [VAL] ca international arcserve lap/desktop oem 30pk [VAL] noah 's ark activity center ( jewel case ages 3-8 ) [VAL] peachtree by sage premium accounting for nonprofits 2007 [VAL] singing coach unlimited [VAL] emc retrospect 7.5 disk to disk windows [VAL] adobe after effects professional 6.5 upgrade from standard to professional [VAL] acad upgrade dragon naturallyspeaking pro solution 9.0 ( a289a-fd7-9 .0 ) [VAL] mia 's math adventure : just in time [VAL] disney 's 1st & 2nd grade bundle ( pixar 1st grade secret keys and aladdin reading quest ) [VAL] paper art : gift wrapping [VAL] nfs maestro solo 2006 1u [VAL] microsoft sql server standard edition 2005 64 bit cd/dvd 5 client [VAL] spy sweeper spanish [VAL] domino designer/developer v5 .0 [VAL] omnioutliner professional 3.0 [VAL] compaq comp . secure path v3.0c-netware wrkgrp 50 lic 231327-b22 ) [VAL] upg sgms 1000 incremental node [VAL] the human body\",\n",
       "  '[ATT] manufacturer [VAL] intuit [VAL] nan [VAL] adobe software [VAL] corel corporation [VAL] canopus/grass valley [VAL] sony creative software [VAL] activision [VAL] channel sources distribution co [VAL] ipswitch [VAL] microsoft [VAL] global-software-publishing-north-america-inc [VAL] digital-leisure-inc . [VAL] imagination-international-corp [VAL] sony-media-software [VAL] sega-of-america-inc . [VAL] warner-new-media [VAL] simply-put-software-llc [VAL] riverdeep-learning-company [VAL] adobe-education-box [VAL] curious-labs-inc .',\n",
       "  0],\n",
       " [\"[ATT] title [VAL] title [VAL] clickart 950 000 premier image pack ( dvd-rom ) [VAL] ca international arcserve lap/desktop oem 30pk [VAL] noah 's ark activity center ( jewel case ages 3-8 ) [VAL] peachtree by sage premium accounting for nonprofits 2007 [VAL] singing coach unlimited [VAL] emc retrospect 7.5 disk to disk windows [VAL] adobe after effects professional 6.5 upgrade from standard to professional [VAL] acad upgrade dragon naturallyspeaking pro solution 9.0 ( a289a-fd7-9 .0 ) [VAL] mia 's math adventure : just in time [VAL] disney 's 1st & 2nd grade bundle ( pixar 1st grade secret keys and aladdin reading quest ) [VAL] paper art : gift wrapping [VAL] nfs maestro solo 2006 1u [VAL] microsoft sql server standard edition 2005 64 bit cd/dvd 5 client [VAL] spy sweeper spanish [VAL] domino designer/developer v5 .0 [VAL] omnioutliner professional 3.0 [VAL] compaq comp . secure path v3.0c-netware wrkgrp 50 lic 231327-b22 ) [VAL] upg sgms 1000 incremental node [VAL] the human body\",\n",
       "  '[ATT] price [VAL] 38.99 [VAL] 8.49 [VAL] 637.99 [VAL] 12.95 [VAL] 805.99 [VAL] 103.99 [VAL] 585.99 [VAL] 1054.99 [VAL] 25.99 [VAL] 92.99 [VAL] 1474.99 [VAL] 29.95 [VAL] 14.99 [VAL] 2068.26 [VAL] 154.6 [VAL] 95.12 [VAL] 137.09 [VAL] 195.53 [VAL] 499.17 [VAL] 2021.99',\n",
       "  0],\n",
       " ['[ATT] manufacturer [VAL] manufacturer [VAL] broderbund [VAL] computer associates [VAL] victory multimedia [VAL] sage software [VAL] carry-a-tune technologies [VAL] dantz [VAL] adobe [VAL] nuance academic [VAL] kutoka [VAL] disney [VAL] arc-media-inc . [VAL] hummingbird communications [VAL] microsoft [VAL] webroot software [VAL] lotus development [VAL] csdc [VAL] compaq computer [VAL] sonic-systems-inc . [VAL] topics entertainment',\n",
       "  '[ATT] id [VAL] 0 [VAL] 1 [VAL] 2 [VAL] 3 [VAL] 4 [VAL] 5 [VAL] 6 [VAL] 7 [VAL] 8 [VAL] 9 [VAL] 10 [VAL] 11 [VAL] 12 [VAL] 13 [VAL] 14 [VAL] 15 [VAL] 16 [VAL] 17 [VAL] 18 [VAL] 19',\n",
       "  0],\n",
       " ['[ATT] manufacturer [VAL] manufacturer [VAL] broderbund [VAL] computer associates [VAL] victory multimedia [VAL] sage software [VAL] carry-a-tune technologies [VAL] dantz [VAL] adobe [VAL] nuance academic [VAL] kutoka [VAL] disney [VAL] arc-media-inc . [VAL] hummingbird communications [VAL] microsoft [VAL] webroot software [VAL] lotus development [VAL] csdc [VAL] compaq computer [VAL] sonic-systems-inc . [VAL] topics entertainment',\n",
       "  '[ATT] title [VAL] learning quickbooks 2007 [VAL] superstart ! fun with reading & writing ! [VAL] qb pos 6.0 basic software [VAL] math missions : the amazing arcade adventure ( grades 3-5 ) [VAL] production prem cs3 mac upgrad [VAL] video studio 11 plus [VAL] edius pro 4 [VAL] qb pos 6.0 pro multi store sw [VAL] qb credit card kit 3.0 [VAL] vegas movie studiodvd +8 plat [VAL] qb pos 6.0 pro solution hw/sw [VAL] ares rising [VAL] evergirl : pc cd-rom video game [VAL] cd384-aisk9 = cisco ios advanced ip services complete package cd [VAL] 633808063023 wasp bar code fontware complete package 10 users cd win english [VAL] 0202-034 axis camera station license 1 additional user [VAL] eu063av aba microsoft windows xp professional license and media 1 user cto english - [VAL] bb0gyna ibm informix dynamic server enterprise edition v. 9.4 media cd linux [VAL] eqzfn07-201 zetafax business edition license 5 users win [VAL] 633808390266 wasp mobileasset professional edition combo pack with spt 1800 v. 5 comp',\n",
       "  0],\n",
       " ['[ATT] manufacturer [VAL] manufacturer [VAL] broderbund [VAL] computer associates [VAL] victory multimedia [VAL] sage software [VAL] carry-a-tune technologies [VAL] dantz [VAL] adobe [VAL] nuance academic [VAL] kutoka [VAL] disney [VAL] arc-media-inc . [VAL] hummingbird communications [VAL] microsoft [VAL] webroot software [VAL] lotus development [VAL] csdc [VAL] compaq computer [VAL] sonic-systems-inc . [VAL] topics entertainment',\n",
       "  '[ATT] manufacturer [VAL] intuit [VAL] nan [VAL] adobe software [VAL] corel corporation [VAL] canopus/grass valley [VAL] sony creative software [VAL] activision [VAL] channel sources distribution co [VAL] ipswitch [VAL] microsoft [VAL] global-software-publishing-north-america-inc [VAL] digital-leisure-inc . [VAL] imagination-international-corp [VAL] sony-media-software [VAL] sega-of-america-inc . [VAL] warner-new-media [VAL] simply-put-software-llc [VAL] riverdeep-learning-company [VAL] adobe-education-box [VAL] curious-labs-inc .',\n",
       "  1],\n",
       " ['[ATT] manufacturer [VAL] manufacturer [VAL] broderbund [VAL] computer associates [VAL] victory multimedia [VAL] sage software [VAL] carry-a-tune technologies [VAL] dantz [VAL] adobe [VAL] nuance academic [VAL] kutoka [VAL] disney [VAL] arc-media-inc . [VAL] hummingbird communications [VAL] microsoft [VAL] webroot software [VAL] lotus development [VAL] csdc [VAL] compaq computer [VAL] sonic-systems-inc . [VAL] topics entertainment',\n",
       "  '[ATT] price [VAL] 38.99 [VAL] 8.49 [VAL] 637.99 [VAL] 12.95 [VAL] 805.99 [VAL] 103.99 [VAL] 585.99 [VAL] 1054.99 [VAL] 25.99 [VAL] 92.99 [VAL] 1474.99 [VAL] 29.95 [VAL] 14.99 [VAL] 2068.26 [VAL] 154.6 [VAL] 95.12 [VAL] 137.09 [VAL] 195.53 [VAL] 499.17 [VAL] 2021.99',\n",
       "  0],\n",
       " ['[ATT] price [VAL] price [VAL] nan [VAL] 599.99 [VAL] 99.99 [VAL] 499.99 [VAL] 399.54 [VAL] 19.99 [VAL] 14.99 [VAL] 309.56 [VAL] 1849.0 [VAL] 29.95 [VAL] 95.0 [VAL] 69.95 [VAL] 9.99 [VAL] 69.99 [VAL] 299.0 [VAL] 49.95 [VAL] 109.95 [VAL] 29.99 [VAL] 39.95',\n",
       "  '[ATT] id [VAL] 0 [VAL] 1 [VAL] 2 [VAL] 3 [VAL] 4 [VAL] 5 [VAL] 6 [VAL] 7 [VAL] 8 [VAL] 9 [VAL] 10 [VAL] 11 [VAL] 12 [VAL] 13 [VAL] 14 [VAL] 15 [VAL] 16 [VAL] 17 [VAL] 18 [VAL] 19',\n",
       "  0],\n",
       " ['[ATT] price [VAL] price [VAL] nan [VAL] 599.99 [VAL] 99.99 [VAL] 499.99 [VAL] 399.54 [VAL] 19.99 [VAL] 14.99 [VAL] 309.56 [VAL] 1849.0 [VAL] 29.95 [VAL] 95.0 [VAL] 69.95 [VAL] 9.99 [VAL] 69.99 [VAL] 299.0 [VAL] 49.95 [VAL] 109.95 [VAL] 29.99 [VAL] 39.95',\n",
       "  '[ATT] title [VAL] learning quickbooks 2007 [VAL] superstart ! fun with reading & writing ! [VAL] qb pos 6.0 basic software [VAL] math missions : the amazing arcade adventure ( grades 3-5 ) [VAL] production prem cs3 mac upgrad [VAL] video studio 11 plus [VAL] edius pro 4 [VAL] qb pos 6.0 pro multi store sw [VAL] qb credit card kit 3.0 [VAL] vegas movie studiodvd +8 plat [VAL] qb pos 6.0 pro solution hw/sw [VAL] ares rising [VAL] evergirl : pc cd-rom video game [VAL] cd384-aisk9 = cisco ios advanced ip services complete package cd [VAL] 633808063023 wasp bar code fontware complete package 10 users cd win english [VAL] 0202-034 axis camera station license 1 additional user [VAL] eu063av aba microsoft windows xp professional license and media 1 user cto english - [VAL] bb0gyna ibm informix dynamic server enterprise edition v. 9.4 media cd linux [VAL] eqzfn07-201 zetafax business edition license 5 users win [VAL] 633808390266 wasp mobileasset professional edition combo pack with spt 1800 v. 5 comp',\n",
       "  0],\n",
       " ['[ATT] price [VAL] price [VAL] nan [VAL] 599.99 [VAL] 99.99 [VAL] 499.99 [VAL] 399.54 [VAL] 19.99 [VAL] 14.99 [VAL] 309.56 [VAL] 1849.0 [VAL] 29.95 [VAL] 95.0 [VAL] 69.95 [VAL] 9.99 [VAL] 69.99 [VAL] 299.0 [VAL] 49.95 [VAL] 109.95 [VAL] 29.99 [VAL] 39.95',\n",
       "  '[ATT] manufacturer [VAL] intuit [VAL] nan [VAL] adobe software [VAL] corel corporation [VAL] canopus/grass valley [VAL] sony creative software [VAL] activision [VAL] channel sources distribution co [VAL] ipswitch [VAL] microsoft [VAL] global-software-publishing-north-america-inc [VAL] digital-leisure-inc . [VAL] imagination-international-corp [VAL] sony-media-software [VAL] sega-of-america-inc . [VAL] warner-new-media [VAL] simply-put-software-llc [VAL] riverdeep-learning-company [VAL] adobe-education-box [VAL] curious-labs-inc .',\n",
       "  0],\n",
       " ['[ATT] price [VAL] price [VAL] nan [VAL] 599.99 [VAL] 99.99 [VAL] 499.99 [VAL] 399.54 [VAL] 19.99 [VAL] 14.99 [VAL] 309.56 [VAL] 1849.0 [VAL] 29.95 [VAL] 95.0 [VAL] 69.95 [VAL] 9.99 [VAL] 69.99 [VAL] 299.0 [VAL] 49.95 [VAL] 109.95 [VAL] 29.99 [VAL] 39.95',\n",
       "  '[ATT] price [VAL] 38.99 [VAL] 8.49 [VAL] 637.99 [VAL] 12.95 [VAL] 805.99 [VAL] 103.99 [VAL] 585.99 [VAL] 1054.99 [VAL] 25.99 [VAL] 92.99 [VAL] 1474.99 [VAL] 29.95 [VAL] 14.99 [VAL] 2068.26 [VAL] 154.6 [VAL] 95.12 [VAL] 137.09 [VAL] 195.53 [VAL] 499.17 [VAL] 2021.99',\n",
       "  1]]"
      ]
     },
     "execution_count": 4,
     "metadata": {},
     "output_type": "execute_result"
    }
   ],
   "source": [
    "import os\n",
    "import pandas as pd\n",
    "\n",
    "\n",
    "data_dir = \"../../datasets/amazon_google_exp/\"\n",
    "def parse_data_dir_gdc(data_dir):\n",
    "    \n",
    "    data_name = data_dir\n",
    "    source = pd.read_csv(os.path.join(data_dir, \"source.csv\"))\n",
    "    target = pd.read_csv(os.path.join(data_dir, \"target.csv\"))\n",
    "    # gt = pd.read_csv(\"../../datasets/dou/groundtruth.csv\")\n",
    "    ground_truth=pd.read_csv(os.path.join(data_dir, \"groundtruth.csv\"))\n",
    "    return data_name, source, target, ground_truth\n",
    "\n",
    "\n",
    "def convert_dataset_to_unicorn_tokens(source, target, ground_truth):\n",
    "    dataset_json = []\n",
    "    for row in ground_truth.itertuples():\n",
    "        source_colname = row.source\n",
    "        source_values = source[source_colname].unique()[:20]\n",
    "        source_str = f\"[ATT] {source_colname} [VAL] {' [VAL] '.join(str(x) for x in list(source_values))}\"\n",
    "\n",
    "        matching_targets = [target.strip() for target in row.target.split(\";\")]\n",
    "        for target_colname in target.columns:\n",
    "            is_matching = 0\n",
    "            if target_colname in matching_targets:\n",
    "                is_matching = 1\n",
    "            target_values = target[target_colname].unique()[:20]\n",
    "            target_str = f\"[ATT] {target_colname} [VAL] {' [VAL] '.join(str(x) for x in list(target_values))}\"\n",
    "            dataset_json.append([source_str, target_str, is_matching])\n",
    "    return dataset_json\n",
    "\n",
    "\n",
    "data_name, source, target, ground_truth = parse_data_dir_gdc(data_dir)\n",
    "convert_dataset_to_unicorn_tokens(source, target, ground_truth)\n",
    "    "
   ]
  },
  {
   "cell_type": "code",
   "execution_count": 1,
   "id": "2f7904c4-2f28-4dbf-94a5-7248a505790b",
   "metadata": {},
   "outputs": [],
   "source": [
    "from unicorn_zero import TrainApp\n",
    "\n",
    "unicorn = TrainApp(\n",
    "    pretrain=False,\n",
    "    load=True,\n",
    "    model=\"deberta_base\",\n",
    "    modelname=\"Temp\",\n",
    "    ckpt=\"UnicornPlus\",\n",
    "    c_learning_rate=3e-7,\n",
    "    pre_epochs=5,\n",
    "    usecase_path=\"../../datasets/cao_full/\",\n",
    "    use_gpu=True,\n",
    "    valentine_output=True,\n",
    ")\n",
    "\n"
   ]
  },
  {
   "cell_type": "code",
   "execution_count": 2,
   "id": "e4031c2f-496e-4549-bc90-bf4a37774088",
   "metadata": {
    "scrolled": true
   },
   "outputs": [
    {
     "name": "stdout",
     "output_type": "stream",
     "text": [
      "=== Argument Setting ===\n",
      "experts 6\n",
      "encoder: deberta_base\n",
      "max_seq_length: 128\n",
      "batch_size: 32\n",
      "epochs: 5\n"
     ]
    },
    {
     "name": "stderr",
     "output_type": "stream",
     "text": [
      "/ext3/miniconda3/lib/python3.9/site-packages/transformers/modeling_utils.py:1205: FutureWarning: You are using `torch.load` with `weights_only=False` (the current default value), which uses the default pickle module implicitly. It is possible to construct malicious pickle data which will execute arbitrary code during unpickling (See https://github.com/pytorch/pytorch/blob/main/SECURITY.md#untrusted-models for more details). In a future release, the default value for `weights_only` will be flipped to `True`. This limits the functions that could be executed during unpickling. Arbitrary objects will no longer be allowed to be loaded via this mode unless they are explicitly allowlisted by the user via `torch.serialization.add_safe_globals`. We recommend you start setting `weights_only=True` for any use case where you don't have full control of the loaded file. Please open an issue on GitHub for any issues related to this experimental feature.\n",
      "  state_dict = torch.load(resolved_archive_file, map_location=\"cpu\")\n",
      "Some weights of the model checkpoint at microsoft/deberta-base were not used when initializing DebertaModel: ['lm_predictions.lm_head.LayerNorm.bias', 'lm_predictions.lm_head.LayerNorm.weight', 'lm_predictions.lm_head.dense.weight', 'lm_predictions.lm_head.dense.bias', 'lm_predictions.lm_head.bias']\n",
      "- This IS expected if you are initializing DebertaModel from the checkpoint of a model trained on another task or with another architecture (e.g. initializing a BertForSequenceClassification model from a BertForPreTraining model).\n",
      "- This IS NOT expected if you are initializing DebertaModel from the checkpoint of a model that you expect to be exactly identical (initializing a BertForSequenceClassification model from a BertForSequenceClassification model).\n",
      "/scratch/yfw215/data-integration-eval/data_harmonization_benchmark/matchers/Unicorn/unicorn/utils/utils.py:129: FutureWarning: You are using `torch.load` with `weights_only=False` (the current default value), which uses the default pickle module implicitly. It is possible to construct malicious pickle data which will execute arbitrary code during unpickling (See https://github.com/pytorch/pytorch/blob/main/SECURITY.md#untrusted-models for more details). In a future release, the default value for `weights_only` will be flipped to `True`. This limits the functions that could be executed during unpickling. Arbitrary objects will no longer be allowed to be loaded via this mode unless they are explicitly allowlisted by the user via `torch.serialization.add_safe_globals`. We recommend you start setting `weights_only=True` for any use case where you don't have full control of the loaded file. Please open an issue on GitHub for any issues related to this experimental feature.\n",
      "  net.load_state_dict(torch.load(path))\n"
     ]
    },
    {
     "name": "stdout",
     "output_type": "stream",
     "text": [
      "Restore model from: /scratch/yfw215/data-integration-eval/data_harmonization_benchmark/matchers/Unicorn/checkpoint/UnicornPlus_encoder.pt\n",
      "Restore model from: /scratch/yfw215/data-integration-eval/data_harmonization_benchmark/matchers/Unicorn/checkpoint/UnicornPlus_cls.pt\n",
      "Restore model from: /scratch/yfw215/data-integration-eval/data_harmonization_benchmark/matchers/Unicorn/checkpoint/UnicornPlus_moe.pt\n"
     ]
    },
    {
     "name": "stderr",
     "output_type": "stream",
     "text": [
      "/scratch/yfw215/data-integration-eval/data_harmonization_benchmark/matchers/Unicorn/unicorn_zero.py:467: DtypeWarning: Columns (0,1,2,3,4,5,6,7,8,9,10,11,12,13,14,15,16,17,18,19,20,21,22,23,24,25,26,27,28,29,30,31,32,33,34,35,36,37,38,39,40,41,42,43,44,45,46,47,48,49,50,51,52,53,54,55,56,57,58,59,60,61,62,63,64,65,66,67,68,69,70,71,72,73,74,76,77,78,79,80,81,82,83,84,85,86,87,88,89,90,91,92,93,94,95,96,97,98,99,100,101,102,103,104,105,106,107,108,109,110,111,112,113,114,115,116,117,118,119,120,121,122,123,124,125,126,127,128,129,130,131,132,133,134,135,136,137,138,140,141,142,143,144,145,146,147,148,149,150,151,152,153,154,155,156,157,158,159,160,161,162,163,164,165,166,167,168,169,170,171,172,173,174,175,176,177,178,179,180,181,182,183,184,185,186,187,188,189,191,192,193,194,195,196,198,199,200,201,202,203,204,205,206,207,208,209,210,211,212,213,214,215,216,217,218,219,220,221,222,223,224,225,226,227,228,229,230,231,232,233,234,235,236,237,238,239,240,241,242,243,244,245,246,247,248,249,250,251,252,253,254,255,256,257,258,259,260,261,262,263,264,265,266,267,268,269,270,271,272,273,274,275,276,277,278,279,280,281,282,283,284,285,286,287,288,289,290,291,292,293,294,295,296,297,298,299,300,301,302,303,304,305,306,307,308,309,310,311,312,313,314,315,316,317,318,319,320,321,322,323,324,325,326,327,328,329,330,331,332,333,334,335,336,337,338,339,340,341,342,343,345,346,347,348,349,350,351,352,353,354,355,356,357,358,533,534,535) have mixed types. Specify dtype option on import or set low_memory=False.\n",
      "  target = pd.read_csv(os.path.join(data_dir, \"target.csv\"))\n"
     ]
    },
    {
     "name": "stdout",
     "output_type": "stream",
     "text": [
      "========================  0\n",
      "writing example 200 of 11256\n",
      "writing example 400 of 11256\n",
      "writing example 600 of 11256\n",
      "writing example 800 of 11256\n",
      "writing example 1000 of 11256\n",
      "writing example 1200 of 11256\n",
      "writing example 1400 of 11256\n",
      "writing example 1600 of 11256\n",
      "writing example 1800 of 11256\n",
      "writing example 2000 of 11256\n",
      "writing example 2200 of 11256\n",
      "writing example 2400 of 11256\n",
      "writing example 2600 of 11256\n",
      "writing example 2800 of 11256\n",
      "writing example 3000 of 11256\n",
      "writing example 3200 of 11256\n",
      "writing example 3400 of 11256\n",
      "writing example 3600 of 11256\n",
      "writing example 3800 of 11256\n",
      "writing example 4000 of 11256\n",
      "writing example 4200 of 11256\n",
      "writing example 4400 of 11256\n",
      "writing example 4600 of 11256\n",
      "writing example 4800 of 11256\n",
      "writing example 5000 of 11256\n",
      "writing example 5200 of 11256\n",
      "writing example 5400 of 11256\n",
      "writing example 5600 of 11256\n",
      "writing example 5800 of 11256\n",
      "writing example 6000 of 11256\n",
      "writing example 6200 of 11256\n",
      "writing example 6400 of 11256\n",
      "writing example 6600 of 11256\n",
      "writing example 6800 of 11256\n",
      "writing example 7000 of 11256\n",
      "writing example 7200 of 11256\n",
      "writing example 7400 of 11256\n",
      "writing example 7600 of 11256\n",
      "writing example 7800 of 11256\n",
      "writing example 8000 of 11256\n",
      "writing example 8200 of 11256\n",
      "writing example 8400 of 11256\n",
      "writing example 8600 of 11256\n",
      "writing example 8800 of 11256\n",
      "writing example 9000 of 11256\n",
      "writing example 9200 of 11256\n",
      "writing example 9400 of 11256\n",
      "writing example 9600 of 11256\n",
      "writing example 9800 of 11256\n",
      "writing example 10000 of 11256\n",
      "writing example 10200 of 11256\n",
      "writing example 10400 of 11256\n",
      "writing example 10600 of 11256\n",
      "writing example 10800 of 11256\n",
      "writing example 11000 of 11256\n",
      "writing example 11200 of 11256\n",
      "test datasets num:  1\n"
     ]
    },
    {
     "name": "stderr",
     "output_type": "stream",
     "text": [
      "/scratch/yfw215/data-integration-eval/data_harmonization_benchmark/matchers/Unicorn/unicorn_zero.py:460: DtypeWarning: Columns (0,1,2,3,4,5,6,7,8,9,10,11,12,13,14,15,16,17,18,19,20,21,22,23,24,25,26,27,28,29,30,31,32,33,34,35,36,37,38,39,40,41,42,43,44,45,46,47,48,49,50,51,52,53,54,55,56,57,58,59,60,61,62,63,64,65,66,67,68,69,70,71,72,73,74,76,77,78,79,80,81,82,83,84,85,86,87,88,89,90,91,92,93,94,95,96,97,98,99,100,101,102,103,104,105,106,107,108,109,110,111,112,113,114,115,116,117,118,119,120,121,122,123,124,125,126,127,128,129,130,131,132,133,134,135,136,137,138,140,141,142,143,144,145,146,147,148,149,150,151,152,153,154,155,156,157,158,159,160,161,162,163,164,165,166,167,168,169,170,171,172,173,174,175,176,177,178,179,180,181,182,183,184,185,186,187,188,189,191,192,193,194,195,196,198,199,200,201,202,203,204,205,206,207,208,209,210,211,212,213,214,215,216,217,218,219,220,221,222,223,224,225,226,227,228,229,230,231,232,233,234,235,236,237,238,239,240,241,242,243,244,245,246,247,248,249,250,251,252,253,254,255,256,257,258,259,260,261,262,263,264,265,266,267,268,269,270,271,272,273,274,275,276,277,278,279,280,281,282,283,284,285,286,287,288,289,290,291,292,293,294,295,296,297,298,299,300,301,302,303,304,305,306,307,308,309,310,311,312,313,314,315,316,317,318,319,320,321,322,323,324,325,326,327,328,329,330,331,332,333,334,335,336,337,338,339,340,341,342,343,345,346,347,348,349,350,351,352,353,354,355,356,357,358,533,534,535) have mixed types. Specify dtype option on import or set low_memory=False.\n",
      "  target = pd.read_csv(os.path.join(data_dir, \"target.csv\"))\n",
      "\n",
      "KeyboardInterrupt\n",
      "\n"
     ]
    }
   ],
   "source": [
    "unicorn.main()"
   ]
  },
  {
   "cell_type": "code",
   "execution_count": null,
   "id": "0a5b595b-4b12-42f7-82b4-a5f4c7167ae9",
   "metadata": {},
   "outputs": [],
   "source": [
    "unicorn.get_args().c_learning_rate"
   ]
  },
  {
   "cell_type": "code",
   "execution_count": null,
   "id": "a5bc3e67-4d81-4fd0-9937-19692ace6155",
   "metadata": {},
   "outputs": [],
   "source": []
  }
 ],
 "metadata": {
  "kernelspec": {
   "display_name": "die",
   "language": "python",
   "name": "die"
  },
  "language_info": {
   "codemirror_mode": {
    "name": "ipython",
    "version": 3
   },
   "file_extension": ".py",
   "mimetype": "text/x-python",
   "name": "python",
   "nbconvert_exporter": "python",
   "pygments_lexer": "ipython3",
   "version": "3.9.18"
  }
 },
 "nbformat": 4,
 "nbformat_minor": 5
}
