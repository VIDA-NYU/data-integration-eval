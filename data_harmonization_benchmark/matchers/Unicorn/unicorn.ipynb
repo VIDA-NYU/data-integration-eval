{
 "cells": [
  {
   "cell_type": "code",
   "execution_count": 4,
   "id": "ff939c46-0867-473b-8066-572cfd6dc849",
   "metadata": {
    "scrolled": true
   },
   "outputs": [
    {
     "data": {
      "text/plain": [
       "[['[ATT] id [VAL] id [VAL] 0 [VAL] 1 [VAL] 2 [VAL] 3 [VAL] 4 [VAL] 5 [VAL] 6 [VAL] 7 [VAL] 8 [VAL] 9 [VAL] 10 [VAL] 11 [VAL] 12 [VAL] 13 [VAL] 14 [VAL] 15 [VAL] 16 [VAL] 17 [VAL] 18',\n",
       "  '[ATT] id [VAL] 0 [VAL] 1 [VAL] 2 [VAL] 3 [VAL] 4 [VAL] 5 [VAL] 6 [VAL] 7 [VAL] 8 [VAL] 9 [VAL] 10 [VAL] 11 [VAL] 12 [VAL] 13 [VAL] 14 [VAL] 15 [VAL] 16 [VAL] 17 [VAL] 18 [VAL] 19',\n",
       "  1],\n",
       " ['[ATT] id [VAL] id [VAL] 0 [VAL] 1 [VAL] 2 [VAL] 3 [VAL] 4 [VAL] 5 [VAL] 6 [VAL] 7 [VAL] 8 [VAL] 9 [VAL] 10 [VAL] 11 [VAL] 12 [VAL] 13 [VAL] 14 [VAL] 15 [VAL] 16 [VAL] 17 [VAL] 18',\n",
       "  '[ATT] title [VAL] learning quickbooks 2007 [VAL] superstart ! fun with reading & writing ! [VAL] qb pos 6.0 basic software [VAL] math missions : the amazing arcade adventure ( grades 3-5 ) [VAL] production prem cs3 mac upgrad [VAL] video studio 11 plus [VAL] edius pro 4 [VAL] qb pos 6.0 pro multi store sw [VAL] qb credit card kit 3.0 [VAL] vegas movie studiodvd +8 plat [VAL] qb pos 6.0 pro solution hw/sw [VAL] ares rising [VAL] evergirl : pc cd-rom video game [VAL] cd384-aisk9 = cisco ios advanced ip services complete package cd [VAL] 633808063023 wasp bar code fontware complete package 10 users cd win english [VAL] 0202-034 axis camera station license 1 additional user [VAL] eu063av aba microsoft windows xp professional license and media 1 user cto english - [VAL] bb0gyna ibm informix dynamic server enterprise edition v. 9.4 media cd linux [VAL] eqzfn07-201 zetafax business edition license 5 users win [VAL] 633808390266 wasp mobileasset professional edition combo pack with spt 1800 v. 5 comp',\n",
       "  0],\n",
       " ['[ATT] id [VAL] id [VAL] 0 [VAL] 1 [VAL] 2 [VAL] 3 [VAL] 4 [VAL] 5 [VAL] 6 [VAL] 7 [VAL] 8 [VAL] 9 [VAL] 10 [VAL] 11 [VAL] 12 [VAL] 13 [VAL] 14 [VAL] 15 [VAL] 16 [VAL] 17 [VAL] 18',\n",
       "  '[ATT] manufacturer [VAL] intuit [VAL] nan [VAL] adobe software [VAL] corel corporation [VAL] canopus/grass valley [VAL] sony creative software [VAL] activision [VAL] channel sources distribution co [VAL] ipswitch [VAL] microsoft [VAL] global-software-publishing-north-america-inc [VAL] digital-leisure-inc . [VAL] imagination-international-corp [VAL] sony-media-software [VAL] sega-of-america-inc . [VAL] warner-new-media [VAL] simply-put-software-llc [VAL] riverdeep-learning-company [VAL] adobe-education-box [VAL] curious-labs-inc .',\n",
       "  0],\n",
       " ['[ATT] id [VAL] id [VAL] 0 [VAL] 1 [VAL] 2 [VAL] 3 [VAL] 4 [VAL] 5 [VAL] 6 [VAL] 7 [VAL] 8 [VAL] 9 [VAL] 10 [VAL] 11 [VAL] 12 [VAL] 13 [VAL] 14 [VAL] 15 [VAL] 16 [VAL] 17 [VAL] 18',\n",
       "  '[ATT] price [VAL] 38.99 [VAL] 8.49 [VAL] 637.99 [VAL] 12.95 [VAL] 805.99 [VAL] 103.99 [VAL] 585.99 [VAL] 1054.99 [VAL] 25.99 [VAL] 92.99 [VAL] 1474.99 [VAL] 29.95 [VAL] 14.99 [VAL] 2068.26 [VAL] 154.6 [VAL] 95.12 [VAL] 137.09 [VAL] 195.53 [VAL] 499.17 [VAL] 2021.99',\n",
       "  0],\n",
       " [\"[ATT] title [VAL] title [VAL] clickart 950 000 premier image pack ( dvd-rom ) [VAL] ca international arcserve lap/desktop oem 30pk [VAL] noah 's ark activity center ( jewel case ages 3-8 ) [VAL] peachtree by sage premium accounting for nonprofits 2007 [VAL] singing coach unlimited [VAL] emc retrospect 7.5 disk to disk windows [VAL] adobe after effects professional 6.5 upgrade from standard to professional [VAL] acad upgrade dragon naturallyspeaking pro solution 9.0 ( a289a-fd7-9 .0 ) [VAL] mia 's math adventure : just in time [VAL] disney 's 1st & 2nd grade bundle ( pixar 1st grade secret keys and aladdin reading quest ) [VAL] paper art : gift wrapping [VAL] nfs maestro solo 2006 1u [VAL] microsoft sql server standard edition 2005 64 bit cd/dvd 5 client [VAL] spy sweeper spanish [VAL] domino designer/developer v5 .0 [VAL] omnioutliner professional 3.0 [VAL] compaq comp . secure path v3.0c-netware wrkgrp 50 lic 231327-b22 ) [VAL] upg sgms 1000 incremental node [VAL] the human body\",\n",
       "  '[ATT] id [VAL] 0 [VAL] 1 [VAL] 2 [VAL] 3 [VAL] 4 [VAL] 5 [VAL] 6 [VAL] 7 [VAL] 8 [VAL] 9 [VAL] 10 [VAL] 11 [VAL] 12 [VAL] 13 [VAL] 14 [VAL] 15 [VAL] 16 [VAL] 17 [VAL] 18 [VAL] 19',\n",
       "  0],\n",
       " [\"[ATT] title [VAL] title [VAL] clickart 950 000 premier image pack ( dvd-rom ) [VAL] ca international arcserve lap/desktop oem 30pk [VAL] noah 's ark activity center ( jewel case ages 3-8 ) [VAL] peachtree by sage premium accounting for nonprofits 2007 [VAL] singing coach unlimited [VAL] emc retrospect 7.5 disk to disk windows [VAL] adobe after effects professional 6.5 upgrade from standard to professional [VAL] acad upgrade dragon naturallyspeaking pro solution 9.0 ( a289a-fd7-9 .0 ) [VAL] mia 's math adventure : just in time [VAL] disney 's 1st & 2nd grade bundle ( pixar 1st grade secret keys and aladdin reading quest ) [VAL] paper art : gift wrapping [VAL] nfs maestro solo 2006 1u [VAL] microsoft sql server standard edition 2005 64 bit cd/dvd 5 client [VAL] spy sweeper spanish [VAL] domino designer/developer v5 .0 [VAL] omnioutliner professional 3.0 [VAL] compaq comp . secure path v3.0c-netware wrkgrp 50 lic 231327-b22 ) [VAL] upg sgms 1000 incremental node [VAL] the human body\",\n",
       "  '[ATT] title [VAL] learning quickbooks 2007 [VAL] superstart ! fun with reading & writing ! [VAL] qb pos 6.0 basic software [VAL] math missions : the amazing arcade adventure ( grades 3-5 ) [VAL] production prem cs3 mac upgrad [VAL] video studio 11 plus [VAL] edius pro 4 [VAL] qb pos 6.0 pro multi store sw [VAL] qb credit card kit 3.0 [VAL] vegas movie studiodvd +8 plat [VAL] qb pos 6.0 pro solution hw/sw [VAL] ares rising [VAL] evergirl : pc cd-rom video game [VAL] cd384-aisk9 = cisco ios advanced ip services complete package cd [VAL] 633808063023 wasp bar code fontware complete package 10 users cd win english [VAL] 0202-034 axis camera station license 1 additional user [VAL] eu063av aba microsoft windows xp professional license and media 1 user cto english - [VAL] bb0gyna ibm informix dynamic server enterprise edition v. 9.4 media cd linux [VAL] eqzfn07-201 zetafax business edition license 5 users win [VAL] 633808390266 wasp mobileasset professional edition combo pack with spt 1800 v. 5 comp',\n",
       "  1],\n",
       " [\"[ATT] title [VAL] title [VAL] clickart 950 000 premier image pack ( dvd-rom ) [VAL] ca international arcserve lap/desktop oem 30pk [VAL] noah 's ark activity center ( jewel case ages 3-8 ) [VAL] peachtree by sage premium accounting for nonprofits 2007 [VAL] singing coach unlimited [VAL] emc retrospect 7.5 disk to disk windows [VAL] adobe after effects professional 6.5 upgrade from standard to professional [VAL] acad upgrade dragon naturallyspeaking pro solution 9.0 ( a289a-fd7-9 .0 ) [VAL] mia 's math adventure : just in time [VAL] disney 's 1st & 2nd grade bundle ( pixar 1st grade secret keys and aladdin reading quest ) [VAL] paper art : gift wrapping [VAL] nfs maestro solo 2006 1u [VAL] microsoft sql server standard edition 2005 64 bit cd/dvd 5 client [VAL] spy sweeper spanish [VAL] domino designer/developer v5 .0 [VAL] omnioutliner professional 3.0 [VAL] compaq comp . secure path v3.0c-netware wrkgrp 50 lic 231327-b22 ) [VAL] upg sgms 1000 incremental node [VAL] the human body\",\n",
       "  '[ATT] manufacturer [VAL] intuit [VAL] nan [VAL] adobe software [VAL] corel corporation [VAL] canopus/grass valley [VAL] sony creative software [VAL] activision [VAL] channel sources distribution co [VAL] ipswitch [VAL] microsoft [VAL] global-software-publishing-north-america-inc [VAL] digital-leisure-inc . [VAL] imagination-international-corp [VAL] sony-media-software [VAL] sega-of-america-inc . [VAL] warner-new-media [VAL] simply-put-software-llc [VAL] riverdeep-learning-company [VAL] adobe-education-box [VAL] curious-labs-inc .',\n",
       "  0],\n",
       " [\"[ATT] title [VAL] title [VAL] clickart 950 000 premier image pack ( dvd-rom ) [VAL] ca international arcserve lap/desktop oem 30pk [VAL] noah 's ark activity center ( jewel case ages 3-8 ) [VAL] peachtree by sage premium accounting for nonprofits 2007 [VAL] singing coach unlimited [VAL] emc retrospect 7.5 disk to disk windows [VAL] adobe after effects professional 6.5 upgrade from standard to professional [VAL] acad upgrade dragon naturallyspeaking pro solution 9.0 ( a289a-fd7-9 .0 ) [VAL] mia 's math adventure : just in time [VAL] disney 's 1st & 2nd grade bundle ( pixar 1st grade secret keys and aladdin reading quest ) [VAL] paper art : gift wrapping [VAL] nfs maestro solo 2006 1u [VAL] microsoft sql server standard edition 2005 64 bit cd/dvd 5 client [VAL] spy sweeper spanish [VAL] domino designer/developer v5 .0 [VAL] omnioutliner professional 3.0 [VAL] compaq comp . secure path v3.0c-netware wrkgrp 50 lic 231327-b22 ) [VAL] upg sgms 1000 incremental node [VAL] the human body\",\n",
       "  '[ATT] price [VAL] 38.99 [VAL] 8.49 [VAL] 637.99 [VAL] 12.95 [VAL] 805.99 [VAL] 103.99 [VAL] 585.99 [VAL] 1054.99 [VAL] 25.99 [VAL] 92.99 [VAL] 1474.99 [VAL] 29.95 [VAL] 14.99 [VAL] 2068.26 [VAL] 154.6 [VAL] 95.12 [VAL] 137.09 [VAL] 195.53 [VAL] 499.17 [VAL] 2021.99',\n",
       "  0],\n",
       " ['[ATT] manufacturer [VAL] manufacturer [VAL] broderbund [VAL] computer associates [VAL] victory multimedia [VAL] sage software [VAL] carry-a-tune technologies [VAL] dantz [VAL] adobe [VAL] nuance academic [VAL] kutoka [VAL] disney [VAL] arc-media-inc . [VAL] hummingbird communications [VAL] microsoft [VAL] webroot software [VAL] lotus development [VAL] csdc [VAL] compaq computer [VAL] sonic-systems-inc . [VAL] topics entertainment',\n",
       "  '[ATT] id [VAL] 0 [VAL] 1 [VAL] 2 [VAL] 3 [VAL] 4 [VAL] 5 [VAL] 6 [VAL] 7 [VAL] 8 [VAL] 9 [VAL] 10 [VAL] 11 [VAL] 12 [VAL] 13 [VAL] 14 [VAL] 15 [VAL] 16 [VAL] 17 [VAL] 18 [VAL] 19',\n",
       "  0],\n",
       " ['[ATT] manufacturer [VAL] manufacturer [VAL] broderbund [VAL] computer associates [VAL] victory multimedia [VAL] sage software [VAL] carry-a-tune technologies [VAL] dantz [VAL] adobe [VAL] nuance academic [VAL] kutoka [VAL] disney [VAL] arc-media-inc . [VAL] hummingbird communications [VAL] microsoft [VAL] webroot software [VAL] lotus development [VAL] csdc [VAL] compaq computer [VAL] sonic-systems-inc . [VAL] topics entertainment',\n",
       "  '[ATT] title [VAL] learning quickbooks 2007 [VAL] superstart ! fun with reading & writing ! [VAL] qb pos 6.0 basic software [VAL] math missions : the amazing arcade adventure ( grades 3-5 ) [VAL] production prem cs3 mac upgrad [VAL] video studio 11 plus [VAL] edius pro 4 [VAL] qb pos 6.0 pro multi store sw [VAL] qb credit card kit 3.0 [VAL] vegas movie studiodvd +8 plat [VAL] qb pos 6.0 pro solution hw/sw [VAL] ares rising [VAL] evergirl : pc cd-rom video game [VAL] cd384-aisk9 = cisco ios advanced ip services complete package cd [VAL] 633808063023 wasp bar code fontware complete package 10 users cd win english [VAL] 0202-034 axis camera station license 1 additional user [VAL] eu063av aba microsoft windows xp professional license and media 1 user cto english - [VAL] bb0gyna ibm informix dynamic server enterprise edition v. 9.4 media cd linux [VAL] eqzfn07-201 zetafax business edition license 5 users win [VAL] 633808390266 wasp mobileasset professional edition combo pack with spt 1800 v. 5 comp',\n",
       "  0],\n",
       " ['[ATT] manufacturer [VAL] manufacturer [VAL] broderbund [VAL] computer associates [VAL] victory multimedia [VAL] sage software [VAL] carry-a-tune technologies [VAL] dantz [VAL] adobe [VAL] nuance academic [VAL] kutoka [VAL] disney [VAL] arc-media-inc . [VAL] hummingbird communications [VAL] microsoft [VAL] webroot software [VAL] lotus development [VAL] csdc [VAL] compaq computer [VAL] sonic-systems-inc . [VAL] topics entertainment',\n",
       "  '[ATT] manufacturer [VAL] intuit [VAL] nan [VAL] adobe software [VAL] corel corporation [VAL] canopus/grass valley [VAL] sony creative software [VAL] activision [VAL] channel sources distribution co [VAL] ipswitch [VAL] microsoft [VAL] global-software-publishing-north-america-inc [VAL] digital-leisure-inc . [VAL] imagination-international-corp [VAL] sony-media-software [VAL] sega-of-america-inc . [VAL] warner-new-media [VAL] simply-put-software-llc [VAL] riverdeep-learning-company [VAL] adobe-education-box [VAL] curious-labs-inc .',\n",
       "  1],\n",
       " ['[ATT] manufacturer [VAL] manufacturer [VAL] broderbund [VAL] computer associates [VAL] victory multimedia [VAL] sage software [VAL] carry-a-tune technologies [VAL] dantz [VAL] adobe [VAL] nuance academic [VAL] kutoka [VAL] disney [VAL] arc-media-inc . [VAL] hummingbird communications [VAL] microsoft [VAL] webroot software [VAL] lotus development [VAL] csdc [VAL] compaq computer [VAL] sonic-systems-inc . [VAL] topics entertainment',\n",
       "  '[ATT] price [VAL] 38.99 [VAL] 8.49 [VAL] 637.99 [VAL] 12.95 [VAL] 805.99 [VAL] 103.99 [VAL] 585.99 [VAL] 1054.99 [VAL] 25.99 [VAL] 92.99 [VAL] 1474.99 [VAL] 29.95 [VAL] 14.99 [VAL] 2068.26 [VAL] 154.6 [VAL] 95.12 [VAL] 137.09 [VAL] 195.53 [VAL] 499.17 [VAL] 2021.99',\n",
       "  0],\n",
       " ['[ATT] price [VAL] price [VAL] nan [VAL] 599.99 [VAL] 99.99 [VAL] 499.99 [VAL] 399.54 [VAL] 19.99 [VAL] 14.99 [VAL] 309.56 [VAL] 1849.0 [VAL] 29.95 [VAL] 95.0 [VAL] 69.95 [VAL] 9.99 [VAL] 69.99 [VAL] 299.0 [VAL] 49.95 [VAL] 109.95 [VAL] 29.99 [VAL] 39.95',\n",
       "  '[ATT] id [VAL] 0 [VAL] 1 [VAL] 2 [VAL] 3 [VAL] 4 [VAL] 5 [VAL] 6 [VAL] 7 [VAL] 8 [VAL] 9 [VAL] 10 [VAL] 11 [VAL] 12 [VAL] 13 [VAL] 14 [VAL] 15 [VAL] 16 [VAL] 17 [VAL] 18 [VAL] 19',\n",
       "  0],\n",
       " ['[ATT] price [VAL] price [VAL] nan [VAL] 599.99 [VAL] 99.99 [VAL] 499.99 [VAL] 399.54 [VAL] 19.99 [VAL] 14.99 [VAL] 309.56 [VAL] 1849.0 [VAL] 29.95 [VAL] 95.0 [VAL] 69.95 [VAL] 9.99 [VAL] 69.99 [VAL] 299.0 [VAL] 49.95 [VAL] 109.95 [VAL] 29.99 [VAL] 39.95',\n",
       "  '[ATT] title [VAL] learning quickbooks 2007 [VAL] superstart ! fun with reading & writing ! [VAL] qb pos 6.0 basic software [VAL] math missions : the amazing arcade adventure ( grades 3-5 ) [VAL] production prem cs3 mac upgrad [VAL] video studio 11 plus [VAL] edius pro 4 [VAL] qb pos 6.0 pro multi store sw [VAL] qb credit card kit 3.0 [VAL] vegas movie studiodvd +8 plat [VAL] qb pos 6.0 pro solution hw/sw [VAL] ares rising [VAL] evergirl : pc cd-rom video game [VAL] cd384-aisk9 = cisco ios advanced ip services complete package cd [VAL] 633808063023 wasp bar code fontware complete package 10 users cd win english [VAL] 0202-034 axis camera station license 1 additional user [VAL] eu063av aba microsoft windows xp professional license and media 1 user cto english - [VAL] bb0gyna ibm informix dynamic server enterprise edition v. 9.4 media cd linux [VAL] eqzfn07-201 zetafax business edition license 5 users win [VAL] 633808390266 wasp mobileasset professional edition combo pack with spt 1800 v. 5 comp',\n",
       "  0],\n",
       " ['[ATT] price [VAL] price [VAL] nan [VAL] 599.99 [VAL] 99.99 [VAL] 499.99 [VAL] 399.54 [VAL] 19.99 [VAL] 14.99 [VAL] 309.56 [VAL] 1849.0 [VAL] 29.95 [VAL] 95.0 [VAL] 69.95 [VAL] 9.99 [VAL] 69.99 [VAL] 299.0 [VAL] 49.95 [VAL] 109.95 [VAL] 29.99 [VAL] 39.95',\n",
       "  '[ATT] manufacturer [VAL] intuit [VAL] nan [VAL] adobe software [VAL] corel corporation [VAL] canopus/grass valley [VAL] sony creative software [VAL] activision [VAL] channel sources distribution co [VAL] ipswitch [VAL] microsoft [VAL] global-software-publishing-north-america-inc [VAL] digital-leisure-inc . [VAL] imagination-international-corp [VAL] sony-media-software [VAL] sega-of-america-inc . [VAL] warner-new-media [VAL] simply-put-software-llc [VAL] riverdeep-learning-company [VAL] adobe-education-box [VAL] curious-labs-inc .',\n",
       "  0],\n",
       " ['[ATT] price [VAL] price [VAL] nan [VAL] 599.99 [VAL] 99.99 [VAL] 499.99 [VAL] 399.54 [VAL] 19.99 [VAL] 14.99 [VAL] 309.56 [VAL] 1849.0 [VAL] 29.95 [VAL] 95.0 [VAL] 69.95 [VAL] 9.99 [VAL] 69.99 [VAL] 299.0 [VAL] 49.95 [VAL] 109.95 [VAL] 29.99 [VAL] 39.95',\n",
       "  '[ATT] price [VAL] 38.99 [VAL] 8.49 [VAL] 637.99 [VAL] 12.95 [VAL] 805.99 [VAL] 103.99 [VAL] 585.99 [VAL] 1054.99 [VAL] 25.99 [VAL] 92.99 [VAL] 1474.99 [VAL] 29.95 [VAL] 14.99 [VAL] 2068.26 [VAL] 154.6 [VAL] 95.12 [VAL] 137.09 [VAL] 195.53 [VAL] 499.17 [VAL] 2021.99',\n",
       "  1]]"
      ]
     },
     "execution_count": 4,
     "metadata": {},
     "output_type": "execute_result"
    }
   ],
   "source": [
    "import os\n",
    "import pandas as pd\n",
    "\n",
    "\n",
    "data_dir = \"../../datasets/amazon_google_exp/\"\n",
    "def parse_data_dir_gdc(data_dir):\n",
    "    \n",
    "    data_name = data_dir\n",
    "    source = pd.read_csv(os.path.join(data_dir, \"source.csv\"))\n",
    "    target = pd.read_csv(os.path.join(data_dir, \"target.csv\"))\n",
    "    # gt = pd.read_csv(\"../../datasets/dou/groundtruth.csv\")\n",
    "    ground_truth=pd.read_csv(os.path.join(data_dir, \"groundtruth.csv\"))\n",
    "    return data_name, source, target, ground_truth\n",
    "\n",
    "\n",
    "def convert_dataset_to_unicorn_tokens(source, target, ground_truth):\n",
    "    dataset_json = []\n",
    "    for row in ground_truth.itertuples():\n",
    "        source_colname = row.source\n",
    "        source_values = source[source_colname].unique()[:20]\n",
    "        source_str = f\"[ATT] {source_colname} [VAL] {' [VAL] '.join(str(x) for x in list(source_values))}\"\n",
    "\n",
    "        matching_targets = [target.strip() for target in row.target.split(\";\")]\n",
    "        for target_colname in target.columns:\n",
    "            is_matching = 0\n",
    "            if target_colname in matching_targets:\n",
    "                is_matching = 1\n",
    "            target_values = target[target_colname].unique()[:20]\n",
    "            target_str = f\"[ATT] {target_colname} [VAL] {' [VAL] '.join(str(x) for x in list(target_values))}\"\n",
    "            dataset_json.append([source_str, target_str, is_matching])\n",
    "    return dataset_json\n",
    "\n",
    "\n",
    "data_name, source, target, ground_truth = parse_data_dir_gdc(data_dir)\n",
    "convert_dataset_to_unicorn_tokens(source, target, ground_truth)\n",
    "    "
   ]
  },
  {
   "cell_type": "code",
   "execution_count": 1,
   "id": "2f7904c4-2f28-4dbf-94a5-7248a505790b",
   "metadata": {},
   "outputs": [],
   "source": [
    "from unicorn_zero import TrainApp\n",
    "\n",
    "unicorn = TrainApp(\n",
    "    pretrain=False,\n",
    "    load=True,\n",
    "    model=\"deberta_base\",\n",
    "    modelname=\"Temp\",\n",
    "    ckpt=\"UnicornPlus\",\n",
    "    c_learning_rate=3e-7,\n",
    "    pre_epochs=5,\n",
    "    usecase_path=\"../../datasets/amazon_google_exp/\",\n",
    "    use_gpu=True,\n",
    "    valentine_output=True,\n",
    ")\n",
    "\n"
   ]
  },
  {
   "cell_type": "code",
   "execution_count": 2,
   "id": "e4031c2f-496e-4549-bc90-bf4a37774088",
   "metadata": {
    "scrolled": true
   },
   "outputs": [
    {
     "name": "stdout",
     "output_type": "stream",
     "text": [
      "=== Argument Setting ===\n",
      "experts 6\n",
      "encoder: deberta_base\n",
      "max_seq_length: 128\n",
      "batch_size: 32\n",
      "epochs: 5\n"
     ]
    },
    {
     "name": "stderr",
     "output_type": "stream",
     "text": [
      "/ext3/miniconda3/lib/python3.9/site-packages/transformers/modeling_utils.py:1205: FutureWarning: You are using `torch.load` with `weights_only=False` (the current default value), which uses the default pickle module implicitly. It is possible to construct malicious pickle data which will execute arbitrary code during unpickling (See https://github.com/pytorch/pytorch/blob/main/SECURITY.md#untrusted-models for more details). In a future release, the default value for `weights_only` will be flipped to `True`. This limits the functions that could be executed during unpickling. Arbitrary objects will no longer be allowed to be loaded via this mode unless they are explicitly allowlisted by the user via `torch.serialization.add_safe_globals`. We recommend you start setting `weights_only=True` for any use case where you don't have full control of the loaded file. Please open an issue on GitHub for any issues related to this experimental feature.\n",
      "  state_dict = torch.load(resolved_archive_file, map_location=\"cpu\")\n",
      "Some weights of the model checkpoint at microsoft/deberta-base were not used when initializing DebertaModel: ['lm_predictions.lm_head.dense.weight', 'lm_predictions.lm_head.LayerNorm.weight', 'lm_predictions.lm_head.bias', 'lm_predictions.lm_head.LayerNorm.bias', 'lm_predictions.lm_head.dense.bias']\n",
      "- This IS expected if you are initializing DebertaModel from the checkpoint of a model trained on another task or with another architecture (e.g. initializing a BertForSequenceClassification model from a BertForPreTraining model).\n",
      "- This IS NOT expected if you are initializing DebertaModel from the checkpoint of a model that you expect to be exactly identical (initializing a BertForSequenceClassification model from a BertForSequenceClassification model).\n",
      "/scratch/yfw215/data-integration-eval/data_harmonization_benchmark/matchers/Unicorn/unicorn/utils/utils.py:129: FutureWarning: You are using `torch.load` with `weights_only=False` (the current default value), which uses the default pickle module implicitly. It is possible to construct malicious pickle data which will execute arbitrary code during unpickling (See https://github.com/pytorch/pytorch/blob/main/SECURITY.md#untrusted-models for more details). In a future release, the default value for `weights_only` will be flipped to `True`. This limits the functions that could be executed during unpickling. Arbitrary objects will no longer be allowed to be loaded via this mode unless they are explicitly allowlisted by the user via `torch.serialization.add_safe_globals`. We recommend you start setting `weights_only=True` for any use case where you don't have full control of the loaded file. Please open an issue on GitHub for any issues related to this experimental feature.\n",
      "  net.load_state_dict(torch.load(path))\n"
     ]
    },
    {
     "name": "stdout",
     "output_type": "stream",
     "text": [
      "Restore model from: /scratch/yfw215/data-integration-eval/data_harmonization_benchmark/matchers/Unicorn/checkpoint/UnicornPlus_encoder.pt\n",
      "Restore model from: /scratch/yfw215/data-integration-eval/data_harmonization_benchmark/matchers/Unicorn/checkpoint/UnicornPlus_cls.pt\n",
      "Restore model from: /scratch/yfw215/data-integration-eval/data_harmonization_benchmark/matchers/Unicorn/checkpoint/UnicornPlus_moe.pt\n",
      "========================  0\n",
      "test datasets num:  1\n",
      "labels: tensor([1, 0, 0, 0, 0, 1, 0, 0, 0, 0, 1, 0, 0, 0, 0, 1], device='cuda:0')\n"
     ]
    },
    {
     "data": {
      "text/plain": [
       "{(('source', 'id'), ('target', 'id')): 4.6648684,\n",
       " (('source', 'id'), ('target', 'title')): -4.0445523,\n",
       " (('source', 'id'), ('target', 'manufacturer')): -4.095197,\n",
       " (('source', 'id'), ('target', 'price')): -4.3284707,\n",
       " (('source', 'title'), ('target', 'id')): -2.638244,\n",
       " (('source', 'title'), ('target', 'title')): 2.1574304,\n",
       " (('source', 'title'), ('target', 'manufacturer')): -2.6802032,\n",
       " (('source', 'title'), ('target', 'price')): -2.5020528,\n",
       " (('source', 'manufacturer'), ('target', 'id')): -3.8926036,\n",
       " (('source', 'manufacturer'), ('target', 'title')): -2.5820093,\n",
       " (('source', 'manufacturer'), ('target', 'manufacturer')): 3.601444,\n",
       " (('source', 'manufacturer'), ('target', 'price')): -3.7442667,\n",
       " (('source', 'price'), ('target', 'id')): -2.6225264,\n",
       " (('source', 'price'), ('target', 'title')): -2.6225264,\n",
       " (('source', 'price'), ('target', 'manufacturer')): -2.6225264,\n",
       " (('source', 'price'), ('target', 'price')): -2.6225264}"
      ]
     },
     "execution_count": 2,
     "metadata": {},
     "output_type": "execute_result"
    }
   ],
   "source": [
    "unicorn.main()"
   ]
  },
  {
   "cell_type": "code",
   "execution_count": null,
   "id": "0a5b595b-4b12-42f7-82b4-a5f4c7167ae9",
   "metadata": {},
   "outputs": [],
   "source": [
    "unicorn.get_args().c_learning_rate"
   ]
  },
  {
   "cell_type": "code",
   "execution_count": null,
   "id": "a5bc3e67-4d81-4fd0-9937-19692ace6155",
   "metadata": {},
   "outputs": [],
   "source": []
  }
 ],
 "metadata": {
  "kernelspec": {
   "display_name": "die",
   "language": "python",
   "name": "die"
  },
  "language_info": {
   "codemirror_mode": {
    "name": "ipython",
    "version": 3
   },
   "file_extension": ".py",
   "mimetype": "text/x-python",
   "name": "python",
   "nbconvert_exporter": "python",
   "pygments_lexer": "ipython3",
   "version": "3.9.18"
  }
 },
 "nbformat": 4,
 "nbformat_minor": 5
}
