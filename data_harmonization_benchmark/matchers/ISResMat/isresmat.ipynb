{
 "cells": [
  {
   "cell_type": "code",
   "execution_count": 1,
   "id": "a544191f-31fa-48c7-8ce2-047940ae909a",
   "metadata": {},
   "outputs": [],
   "source": [
    "from ISResMat import TrainApp\n",
    "import argparse\n",
    "import pandas as pd\n",
    "import os"
   ]
  },
  {
   "cell_type": "code",
   "execution_count": 3,
   "id": "403e3005-c93d-4fda-827a-cc46fb483d08",
   "metadata": {
    "scrolled": true
   },
   "outputs": [
    {
     "name": "stderr",
     "output_type": "stream",
     "text": [
      "2024-10-16 05:09:49 INFO Using GPU.\n",
      "2024-10-16 05:09:49 INFO Using GPU.\n",
      "2024-10-16 05:09:49 INFO begin to prepare the data ...\n",
      "2024-10-16 05:09:49 INFO begin to prepare the data ...\n",
      "2024-10-16 05:09:51 INFO src effective table width: 16\n",
      "2024-10-16 05:09:51 INFO src effective table width: 16\n",
      "2024-10-16 05:09:51 INFO tgt effective table width: 14\n",
      "2024-10-16 05:09:51 INFO tgt effective table width: 14\n"
     ]
    }
   ],
   "source": [
    "# data_dir=\"../../datasets/amazon_google_exp/\"\n",
    "# data_name=\"amazon_google_exp\"\n",
    "# src_orig_file=f\"{data_dir}/source.csv\"\n",
    "# tgt_orig_file=f\"{data_dir}/target.csv\"\n",
    "# golden_mappings=f\"{data_dir}/groundtruth.csv\"\n",
    "\n",
    "\n",
    "# data_dir = \"../../datasets/gdc_all/\"\n",
    "# data_dir = \"../../datasets/isresmat_cao/\"\n",
    "# data_dir = \"../../datasets/dou/\"\n",
    "data_dir = \"../../datasets/ChEMBL/Joinable/assays_vertical_50_ac2_ev/\"\n",
    "def parse_data_dir_gdc(data_dir):\n",
    "    \n",
    "    data_name = data_dir\n",
    "    src_orig_file = pd.read_csv(os.path.join(data_dir, \"source.csv\"))\n",
    "    # tgt_orig_file = pd.read_csv(\"../../resource/gdc_table.csv\")\n",
    "    tgt_orig_file = pd.read_csv(os.path.join(data_dir, \"target.csv\"))\n",
    "    # gt = pd.read_csv(\"../../datasets/dou/groundtruth.csv\")\n",
    "    golden_mappings=os.path.join(data_dir, \"groundtruth.csv\")\n",
    "    return data_name, src_orig_file, tgt_orig_file, golden_mappings\n",
    "\n",
    "data_name, src_orig_file, tgt_orig_file, golden_mappings = parse_data_dir_gdc(data_dir)\n",
    "\n",
    "isresmat = TrainApp(\n",
    "    n_trn_cols=1000, # fragments\n",
    "    batch_size=1,\n",
    "    frag_height=6,\n",
    "    frag_width=12,\n",
    "    learning_rate=3e-5,\n",
    "    col_name_prob=0,\n",
    "    store_matches=0,\n",
    "    comment=\"inst_001\",\n",
    "    dataset_name=data_name,\n",
    "    orig_file_src=src_orig_file,\n",
    "    orig_file_tgt=tgt_orig_file,\n",
    "    # orig_file_golden_matches=golden_mappings,\n",
    "    process_mode=0,\n",
    "    n_val_cols=100,\n",
    "    model_checkpoint=\"checkpoint/checkpoint.pt\",\n",
    ")"
   ]
  },
  {
   "cell_type": "code",
   "execution_count": 4,
   "id": "4f348e8c-918a-45bd-931c-c8e3e53366d2",
   "metadata": {
    "scrolled": true
   },
   "outputs": [
    {
     "name": "stderr",
     "output_type": "stream",
     "text": [
      "100%|█████████▉| 666/667 [05:01<00:00,  2.70it/s]2024-10-16 05:15:01 CRITICAL curr_sorted_matches----------->{(('source', 'cell_id'), ('target', 'CEI')): 0.9998375773429871, (('source', 'assay_tax_id'), ('target', 'ASTAI')): 0.9998149871826172, (('source', 'tissue_id'), ('target', 'TISI')): 0.999812126159668, (('source', 'relationship_type'), ('target', 'RELATIT')): 0.9998087882995605, (('source', 'assay_subcellular_fraction'), ('target', 'ASSUBFR')): 0.9998021125793457, (('source', 'src_id'), ('target', 'SRI')): 0.9998005032539368, (('source', 'description'), ('target', 'Descr')): 0.9997982978820801, (('source', 'assay_test_type'), ('target', 'ASSTT')): 0.9997891783714294, (('source', 'curated_by'), ('target', 'CUB')): 0.9997857213020325, (('source', 'assay_cell_type'), ('target', 'CHI')): 0.9995259046554565, (('source', 'assay_strain'), ('target', 'Ti')): 0.9983137845993042, (('source', 'assay_type'), ('target', 'CONSCO')): 0.998101532459259, (('source', 'assay_id'), ('target', 'ASSI')): 0.9569882154464722, (('source', 'doc_id'), ('target', 'ASSI')): 0.8854101300239563, (('source', 'assay_tissue'), ('target', 'BFOR')): 0.8615013957023621, (('source', 'assay_organism'), ('target', 'BFOR')): 0.7306854724884033, (('source', 'assay_id'), ('target', 'Ti')): 0.056104354560375214, (('source', 'assay_organism'), ('target', 'CONSCO')): 0.03935929760336876, (('source', 'doc_id'), ('target', 'CEI')): 0.018645260483026505, (('source', 'doc_id'), ('target', 'TISI')): -0.0032089476007968187, (('source', 'assay_organism'), ('target', 'Ti')): -0.017073288559913635, (('source', 'assay_id'), ('target', 'CONSCO')): -0.025484388694167137, (('source', 'assay_organism'), ('target', 'CHI')): -0.03624485433101654, (('source', 'assay_tissue'), ('target', 'Descr')): -0.03911012411117554, (('source', 'doc_id'), ('target', 'Descr')): -0.039240382611751556, (('source', 'assay_tissue'), ('target', 'ASSUBFR')): -0.04604339599609375, (('source', 'assay_cell_type'), ('target', 'Descr')): -0.04820125922560692, (('source', 'description'), ('target', 'ASTAI')): -0.05043241009116173, (('source', 'assay_tax_id'), ('target', 'Descr')): -0.05049310252070427, (('source', 'assay_cell_type'), ('target', 'Ti')): -0.051003582775592804, (('source', 'assay_strain'), ('target', 'TISI')): -0.051208674907684326, (('source', 'tissue_id'), ('target', 'ASTAI')): -0.05181404575705528, (('source', 'assay_strain'), ('target', 'CUB')): -0.05389203876256943, (('source', 'relationship_type'), ('target', 'TISI')): -0.055141378194093704, (('source', 'assay_test_type'), ('target', 'ASSUBFR')): -0.055628299713134766, (('source', 'assay_strain'), ('target', 'CHI')): -0.056295983493328094, (('source', 'cell_id'), ('target', 'ASTAI')): -0.056351155042648315, (('source', 'assay_id'), ('target', 'RELATIT')): -0.0567692406475544, (('source', 'assay_tissue'), ('target', 'CUB')): -0.05691495165228844, (('source', 'assay_subcellular_fraction'), ('target', 'ASTAI')): -0.057246170938014984, (('source', 'assay_tax_id'), ('target', 'TISI')): -0.05731856822967529, (('source', 'src_id'), ('target', 'CUB')): -0.05750979110598564, (('source', 'doc_id'), ('target', 'CHI')): -0.057526275515556335, (('source', 'assay_type'), ('target', 'Descr')): -0.057789601385593414, (('source', 'assay_test_type'), ('target', 'Descr')): -0.0582328736782074, (('source', 'assay_strain'), ('target', 'CEI')): -0.05830419808626175, (('source', 'assay_strain'), ('target', 'ASSTT')): -0.05859920382499695, (('source', 'assay_type'), ('target', 'ASSTT')): -0.05949073284864426, (('source', 'tissue_id'), ('target', 'RELATIT')): -0.060024842619895935, (('source', 'assay_strain'), ('target', 'ASSI')): -0.060181520879268646, (('source', 'assay_subcellular_fraction'), ('target', 'ASSTT')): -0.06064658612012863, (('source', 'relationship_type'), ('target', 'ASSUBFR')): -0.060901395976543427, (('source', 'curated_by'), ('target', 'SRI')): -0.06153899431228638, (('source', 'curated_by'), ('target', 'Descr')): -0.06155101954936981, (('source', 'assay_tax_id'), ('target', 'ASSUBFR')): -0.061603378504514694, (('source', 'tissue_id'), ('target', 'Ti')): -0.06172756478190422, (('source', 'src_id'), ('target', 'Descr')): -0.062195781618356705, (('source', 'assay_test_type'), ('target', 'ASTAI')): -0.062342360615730286, (('source', 'assay_cell_type'), ('target', 'TISI')): -0.06249728426337242, (('source', 'assay_test_type'), ('target', 'Ti')): -0.06260477751493454, (('source', 'src_id'), ('target', 'CONSCO')): -0.06271446496248245, (('source', 'cell_id'), ('target', 'CONSCO')): -0.06275268644094467, (('source', 'assay_tax_id'), ('target', 'CEI')): -0.06303425133228302, (('source', 'relationship_type'), ('target', 'ASSTT')): -0.06305389851331711, (('source', 'assay_test_type'), ('target', 'CONSCO')): -0.06387706845998764, (('source', 'description'), ('target', 'CHI')): -0.06390105187892914, (('source', 'relationship_type'), ('target', 'CEI')): -0.06392604857683182, (('source', 'assay_test_type'), ('target', 'RELATIT')): -0.06399542838335037, (('source', 'cell_id'), ('target', 'ASSUBFR')): -0.064036063849926, (('source', 'assay_strain'), ('target', 'ASTAI')): -0.06421595811843872, (('source', 'cell_id'), ('target', 'RELATIT')): -0.06446844339370728, (('source', 'assay_type'), ('target', 'CEI')): -0.06457538902759552, (('source', 'assay_cell_type'), ('target', 'SRI')): -0.06457658112049103, (('source', 'assay_cell_type'), ('target', 'RELATIT')): -0.06471353769302368, (('source', 'assay_test_type'), ('target', 'CUB')): -0.06475804001092911, (('source', 'curated_by'), ('target', 'Ti')): -0.06492708623409271, (('source', 'assay_test_type'), ('target', 'CEI')): -0.06498327851295471, (('source', 'assay_subcellular_fraction'), ('target', 'RELATIT')): -0.06527284532785416, (('source', 'cell_id'), ('target', 'ASSTT')): -0.06536865234375, (('source', 'assay_organism'), ('target', 'CUB')): -0.0654468759894371, (('source', 'assay_type'), ('target', 'TISI')): -0.06558459252119064, (('source', 'src_id'), ('target', 'TISI')): -0.06574960798025131, (('source', 'relationship_type'), ('target', 'Descr')): -0.06581437587738037, (('source', 'assay_strain'), ('target', 'RELATIT')): -0.06600165367126465, (('source', 'description'), ('target', 'CONSCO')): -0.06627842783927917, (('source', 'assay_organism'), ('target', 'TISI')): -0.06649338454008102, (('source', 'relationship_type'), ('target', 'ASTAI')): -0.06651398539543152, (('source', 'description'), ('target', 'CUB')): -0.06656499207019806, (('source', 'assay_cell_type'), ('target', 'ASSTT')): -0.06659926474094391, (('source', 'src_id'), ('target', 'ASSUBFR')): -0.06667876988649368, (('source', 'assay_strain'), ('target', 'ASSUBFR')): -0.06693463772535324, (('source', 'curated_by'), ('target', 'ASTAI')): -0.0672941654920578, (('source', 'tissue_id'), ('target', 'ASSUBFR')): -0.06734070926904678, (('source', 'tissue_id'), ('target', 'Descr')): -0.06735740602016449, (('source', 'relationship_type'), ('target', 'CUB')): -0.06753362715244293, (('source', 'cell_id'), ('target', 'CUB')): -0.06779298931360245, (('source', 'assay_subcellular_fraction'), ('target', 'TISI')): -0.06799446046352386, (('source', 'assay_subcellular_fraction'), ('target', 'CEI')): -0.06803514063358307, (('source', 'curated_by'), ('target', 'TISI')): -0.06815026700496674, (('source', 'assay_subcellular_fraction'), ('target', 'Descr')): -0.0681677758693695, (('source', 'relationship_type'), ('target', 'CHI')): -0.06830894201993942, (('source', 'assay_cell_type'), ('target', 'ASTAI')): -0.06834423542022705, (('source', 'curated_by'), ('target', 'ASSTT')): -0.06844564527273178, (('source', 'description'), ('target', 'ASSTT')): -0.06851303577423096, (('source', 'curated_by'), ('target', 'ASSUBFR')): -0.06901246309280396, (('source', 'cell_id'), ('target', 'TISI')): -0.06902893632650375, (('source', 'curated_by'), ('target', 'CONSCO')): -0.06906820833683014, (('source', 'src_id'), ('target', 'ASTAI')): -0.06907659769058228, (('source', 'tissue_id'), ('target', 'CUB')): -0.0692347064614296, (('source', 'cell_id'), ('target', 'Ti')): -0.06925637274980545, (('source', 'tissue_id'), ('target', 'SRI')): -0.06932789087295532, (('source', 'curated_by'), ('target', 'CEI')): -0.06938993185758591, (('source', 'assay_cell_type'), ('target', 'ASSUBFR')): -0.06939608603715897, (('source', 'assay_type'), ('target', 'CUB')): -0.06960754841566086, (('source', 'assay_subcellular_fraction'), ('target', 'SRI')): -0.06971973180770874, (('source', 'cell_id'), ('target', 'Descr')): -0.06991513073444366, (('source', 'assay_test_type'), ('target', 'TISI')): -0.06999519467353821, (('source', 'tissue_id'), ('target', 'CONSCO')): -0.0702616348862648, (('source', 'assay_subcellular_fraction'), ('target', 'CUB')): -0.07051195204257965, (('source', 'assay_tax_id'), ('target', 'CUB')): -0.07053814083337784, (('source', 'assay_test_type'), ('target', 'SRI')): -0.07062289118766785, (('source', 'src_id'), ('target', 'ASSTT')): -0.07072483003139496, (('source', 'src_id'), ('target', 'CHI')): -0.0707392692565918, (('source', 'assay_tax_id'), ('target', 'ASSTT')): -0.07085318118333817, (('source', 'curated_by'), ('target', 'RELATIT')): -0.07126268744468689, (('source', 'tissue_id'), ('target', 'CHI')): -0.071281298995018, (('source', 'assay_organism'), ('target', 'RELATIT')): -0.07130712270736694, (('source', 'tissue_id'), ('target', 'CEI')): -0.07135481387376785, (('source', 'assay_tissue'), ('target', 'RELATIT')): -0.07146342843770981, (('source', 'relationship_type'), ('target', 'SRI')): -0.07174939662218094, (('source', 'doc_id'), ('target', 'ASSUBFR')): -0.07200571894645691, (('source', 'assay_strain'), ('target', 'Descr')): -0.07263928651809692, (('source', 'assay_test_type'), ('target', 'CHI')): -0.07301736623048782, (('source', 'description'), ('target', 'SRI')): -0.07321443408727646, (('source', 'assay_type'), ('target', 'SRI')): -0.0734928771853447, (('source', 'assay_subcellular_fraction'), ('target', 'Ti')): -0.07357332855463028, (('source', 'src_id'), ('target', 'RELATIT')): -0.07387824356555939, (('source', 'description'), ('target', 'TISI')): -0.07397406548261642, (('source', 'assay_type'), ('target', 'RELATIT')): -0.074094757437706, (('source', 'doc_id'), ('target', 'SRI')): -0.07410931587219238, (('source', 'src_id'), ('target', 'CEI')): -0.07414872199296951, (('source', 'tissue_id'), ('target', 'ASSTT')): -0.07419876754283905, (('source', 'description'), ('target', 'ASSUBFR')): -0.07447616755962372, (('source', 'cell_id'), ('target', 'SRI')): -0.07448352873325348, (('source', 'assay_tax_id'), ('target', 'RELATIT')): -0.0745672658085823, (('source', 'assay_cell_type'), ('target', 'CEI')): -0.07540823519229889, (('source', 'description'), ('target', 'RELATIT')): -0.07588258385658264, (('source', 'assay_subcellular_fraction'), ('target', 'CHI')): -0.07592149078845978, (('source', 'description'), ('target', 'CEI')): -0.07637660205364227, (('source', 'assay_type'), ('target', 'ASSI')): -0.07645659148693085, (('source', 'relationship_type'), ('target', 'Ti')): -0.07671500742435455, (('source', 'assay_tax_id'), ('target', 'SRI')): -0.07699362933635712, (('source', 'cell_id'), ('target', 'CHI')): -0.07778281718492508, (('source', 'assay_strain'), ('target', 'SRI')): -0.07853121310472488, (('source', 'assay_tissue'), ('target', 'TISI')): -0.07879281044006348, (('source', 'assay_tissue'), ('target', 'SRI')): -0.07942221313714981, (('source', 'relationship_type'), ('target', 'CONSCO')): -0.07973188161849976, (('source', 'assay_tissue'), ('target', 'ASSTT')): -0.07981091737747192, (('source', 'assay_organism'), ('target', 'SRI')): -0.08024459332227707, (('source', 'assay_cell_type'), ('target', 'CONSCO')): -0.08082616329193115, (('source', 'assay_tissue'), ('target', 'ASTAI')): -0.08103006333112717, (('source', 'assay_tissue'), ('target', 'CHI')): -0.0811183899641037, (('source', 'assay_tax_id'), ('target', 'CONSCO')): -0.0813065692782402, (('source', 'assay_tax_id'), ('target', 'Ti')): -0.08136885613203049, (('source', 'assay_type'), ('target', 'ASSUBFR')): -0.0815325379371643, (('source', 'assay_type'), ('target', 'ASTAI')): -0.0815654844045639, (('source', 'description'), ('target', 'ASSI')): -0.08200042694807053, (('source', 'assay_tax_id'), ('target', 'CHI')): -0.08212496340274811, (('source', 'src_id'), ('target', 'Ti')): -0.08221093565225601, (('source', 'tissue_id'), ('target', 'BFOR')): -0.08272285014390945, (('source', 'assay_subcellular_fraction'), ('target', 'BFOR')): -0.08304636180400848, (('source', 'relationship_type'), ('target', 'ASSI')): -0.08345106989145279, (('source', 'assay_id'), ('target', 'ASTAI')): -0.08351705968379974, (('source', 'assay_type'), ('target', 'CHI')): -0.08385953307151794, (('source', 'description'), ('target', 'Ti')): -0.08390798419713974, (('source', 'assay_subcellular_fraction'), ('target', 'CONSCO')): -0.08429291099309921, (('source', 'assay_tissue'), ('target', 'CEI')): -0.08577752858400345, (('source', 'assay_organism'), ('target', 'CEI')): -0.08605236560106277, (('source', 'assay_cell_type'), ('target', 'CUB')): -0.08613555878400803, (('source', 'relationship_type'), ('target', 'BFOR')): -0.08622191101312637, (('source', 'src_id'), ('target', 'ASSI')): -0.0871473178267479, (('source', 'assay_cell_type'), ('target', 'BFOR')): -0.08864259719848633, (('source', 'curated_by'), ('target', 'BFOR')): -0.08869209885597229, (('source', 'curated_by'), ('target', 'CHI')): -0.08992782235145569, (('source', 'assay_organism'), ('target', 'ASSTT')): -0.09132260084152222, (('source', 'assay_tax_id'), ('target', 'ASSI')): -0.09192296117544174, (('source', 'assay_id'), ('target', 'ASSTT')): -0.09255540370941162, (('source', 'assay_type'), ('target', 'BFOR')): -0.09303372353315353, (('source', 'assay_organism'), ('target', 'Descr')): -0.09376796334981918, (('source', 'assay_tissue'), ('target', 'Ti')): -0.09378131479024887, (('source', 'assay_test_type'), ('target', 'ASSI')): -0.0941324532032013, (('source', 'assay_organism'), ('target', 'ASTAI')): -0.09425688534975052, (('source', 'src_id'), ('target', 'BFOR')): -0.09592704474925995, (('source', 'assay_strain'), ('target', 'BFOR')): -0.09674075245857239, (('source', 'tissue_id'), ('target', 'ASSI')): -0.09736471623182297, (('source', 'assay_id'), ('target', 'CUB')): -0.09939184039831161, (('source', 'curated_by'), ('target', 'ASSI')): -0.09949822723865509, (('source', 'assay_organism'), ('target', 'ASSUBFR')): -0.1012054830789566, (('source', 'cell_id'), ('target', 'BFOR')): -0.10265703499317169, (('source', 'description'), ('target', 'BFOR')): -0.10314453393220901, (('source', 'assay_subcellular_fraction'), ('target', 'ASSI')): -0.1045985296368599, (('source', 'cell_id'), ('target', 'ASSI')): -0.10536643117666245, (('source', 'assay_id'), ('target', 'SRI')): -0.10793411731719971, (('source', 'assay_strain'), ('target', 'CONSCO')): -0.10816681385040283, (('source', 'doc_id'), ('target', 'BFOR')): -0.10962383449077606, (('source', 'assay_tax_id'), ('target', 'BFOR')): -0.11048107594251633, (('source', 'assay_tissue'), ('target', 'CONSCO')): -0.11075156927108765, (('source', 'assay_test_type'), ('target', 'BFOR')): -0.11119604110717773, (('source', 'doc_id'), ('target', 'CUB')): -0.11156697571277618, (('source', 'assay_cell_type'), ('target', 'ASSI')): -0.11262433975934982, (('source', 'assay_type'), ('target', 'Ti')): -0.11357851326465607, (('source', 'doc_id'), ('target', 'ASSTT')): -0.11457403749227524, (('source', 'assay_id'), ('target', 'BFOR')): -0.11835354566574097, (('source', 'doc_id'), ('target', 'ASTAI')): -0.11949232965707779, (('source', 'doc_id'), ('target', 'CONSCO')): -0.12089122831821442, (('source', 'assay_id'), ('target', 'Descr')): -0.12212781608104706, (('source', 'assay_id'), ('target', 'ASSUBFR')): -0.1248663142323494, (('source', 'assay_tissue'), ('target', 'ASSI')): -0.13281644880771637, (('source', 'assay_id'), ('target', 'CHI')): -0.13464751839637756, (('source', 'doc_id'), ('target', 'RELATIT')): -0.1469094306230545, (('source', 'assay_organism'), ('target', 'ASSI')): -0.14819538593292236, (('source', 'assay_id'), ('target', 'TISI')): -0.1611894965171814, (('source', 'assay_id'), ('target', 'CEI')): -0.17872928082942963, (('source', 'doc_id'), ('target', 'Ti')): -0.23821693658828735}\n",
      "2024-10-16 05:15:01 CRITICAL curr_sorted_matches----------->{(('source', 'cell_id'), ('target', 'CEI')): 0.9998375773429871, (('source', 'assay_tax_id'), ('target', 'ASTAI')): 0.9998149871826172, (('source', 'tissue_id'), ('target', 'TISI')): 0.999812126159668, (('source', 'relationship_type'), ('target', 'RELATIT')): 0.9998087882995605, (('source', 'assay_subcellular_fraction'), ('target', 'ASSUBFR')): 0.9998021125793457, (('source', 'src_id'), ('target', 'SRI')): 0.9998005032539368, (('source', 'description'), ('target', 'Descr')): 0.9997982978820801, (('source', 'assay_test_type'), ('target', 'ASSTT')): 0.9997891783714294, (('source', 'curated_by'), ('target', 'CUB')): 0.9997857213020325, (('source', 'assay_cell_type'), ('target', 'CHI')): 0.9995259046554565, (('source', 'assay_strain'), ('target', 'Ti')): 0.9983137845993042, (('source', 'assay_type'), ('target', 'CONSCO')): 0.998101532459259, (('source', 'assay_id'), ('target', 'ASSI')): 0.9569882154464722, (('source', 'doc_id'), ('target', 'ASSI')): 0.8854101300239563, (('source', 'assay_tissue'), ('target', 'BFOR')): 0.8615013957023621, (('source', 'assay_organism'), ('target', 'BFOR')): 0.7306854724884033, (('source', 'assay_id'), ('target', 'Ti')): 0.056104354560375214, (('source', 'assay_organism'), ('target', 'CONSCO')): 0.03935929760336876, (('source', 'doc_id'), ('target', 'CEI')): 0.018645260483026505, (('source', 'doc_id'), ('target', 'TISI')): -0.0032089476007968187, (('source', 'assay_organism'), ('target', 'Ti')): -0.017073288559913635, (('source', 'assay_id'), ('target', 'CONSCO')): -0.025484388694167137, (('source', 'assay_organism'), ('target', 'CHI')): -0.03624485433101654, (('source', 'assay_tissue'), ('target', 'Descr')): -0.03911012411117554, (('source', 'doc_id'), ('target', 'Descr')): -0.039240382611751556, (('source', 'assay_tissue'), ('target', 'ASSUBFR')): -0.04604339599609375, (('source', 'assay_cell_type'), ('target', 'Descr')): -0.04820125922560692, (('source', 'description'), ('target', 'ASTAI')): -0.05043241009116173, (('source', 'assay_tax_id'), ('target', 'Descr')): -0.05049310252070427, (('source', 'assay_cell_type'), ('target', 'Ti')): -0.051003582775592804, (('source', 'assay_strain'), ('target', 'TISI')): -0.051208674907684326, (('source', 'tissue_id'), ('target', 'ASTAI')): -0.05181404575705528, (('source', 'assay_strain'), ('target', 'CUB')): -0.05389203876256943, (('source', 'relationship_type'), ('target', 'TISI')): -0.055141378194093704, (('source', 'assay_test_type'), ('target', 'ASSUBFR')): -0.055628299713134766, (('source', 'assay_strain'), ('target', 'CHI')): -0.056295983493328094, (('source', 'cell_id'), ('target', 'ASTAI')): -0.056351155042648315, (('source', 'assay_id'), ('target', 'RELATIT')): -0.0567692406475544, (('source', 'assay_tissue'), ('target', 'CUB')): -0.05691495165228844, (('source', 'assay_subcellular_fraction'), ('target', 'ASTAI')): -0.057246170938014984, (('source', 'assay_tax_id'), ('target', 'TISI')): -0.05731856822967529, (('source', 'src_id'), ('target', 'CUB')): -0.05750979110598564, (('source', 'doc_id'), ('target', 'CHI')): -0.057526275515556335, (('source', 'assay_type'), ('target', 'Descr')): -0.057789601385593414, (('source', 'assay_test_type'), ('target', 'Descr')): -0.0582328736782074, (('source', 'assay_strain'), ('target', 'CEI')): -0.05830419808626175, (('source', 'assay_strain'), ('target', 'ASSTT')): -0.05859920382499695, (('source', 'assay_type'), ('target', 'ASSTT')): -0.05949073284864426, (('source', 'tissue_id'), ('target', 'RELATIT')): -0.060024842619895935, (('source', 'assay_strain'), ('target', 'ASSI')): -0.060181520879268646, (('source', 'assay_subcellular_fraction'), ('target', 'ASSTT')): -0.06064658612012863, (('source', 'relationship_type'), ('target', 'ASSUBFR')): -0.060901395976543427, (('source', 'curated_by'), ('target', 'SRI')): -0.06153899431228638, (('source', 'curated_by'), ('target', 'Descr')): -0.06155101954936981, (('source', 'assay_tax_id'), ('target', 'ASSUBFR')): -0.061603378504514694, (('source', 'tissue_id'), ('target', 'Ti')): -0.06172756478190422, (('source', 'src_id'), ('target', 'Descr')): -0.062195781618356705, (('source', 'assay_test_type'), ('target', 'ASTAI')): -0.062342360615730286, (('source', 'assay_cell_type'), ('target', 'TISI')): -0.06249728426337242, (('source', 'assay_test_type'), ('target', 'Ti')): -0.06260477751493454, (('source', 'src_id'), ('target', 'CONSCO')): -0.06271446496248245, (('source', 'cell_id'), ('target', 'CONSCO')): -0.06275268644094467, (('source', 'assay_tax_id'), ('target', 'CEI')): -0.06303425133228302, (('source', 'relationship_type'), ('target', 'ASSTT')): -0.06305389851331711, (('source', 'assay_test_type'), ('target', 'CONSCO')): -0.06387706845998764, (('source', 'description'), ('target', 'CHI')): -0.06390105187892914, (('source', 'relationship_type'), ('target', 'CEI')): -0.06392604857683182, (('source', 'assay_test_type'), ('target', 'RELATIT')): -0.06399542838335037, (('source', 'cell_id'), ('target', 'ASSUBFR')): -0.064036063849926, (('source', 'assay_strain'), ('target', 'ASTAI')): -0.06421595811843872, (('source', 'cell_id'), ('target', 'RELATIT')): -0.06446844339370728, (('source', 'assay_type'), ('target', 'CEI')): -0.06457538902759552, (('source', 'assay_cell_type'), ('target', 'SRI')): -0.06457658112049103, (('source', 'assay_cell_type'), ('target', 'RELATIT')): -0.06471353769302368, (('source', 'assay_test_type'), ('target', 'CUB')): -0.06475804001092911, (('source', 'curated_by'), ('target', 'Ti')): -0.06492708623409271, (('source', 'assay_test_type'), ('target', 'CEI')): -0.06498327851295471, (('source', 'assay_subcellular_fraction'), ('target', 'RELATIT')): -0.06527284532785416, (('source', 'cell_id'), ('target', 'ASSTT')): -0.06536865234375, (('source', 'assay_organism'), ('target', 'CUB')): -0.0654468759894371, (('source', 'assay_type'), ('target', 'TISI')): -0.06558459252119064, (('source', 'src_id'), ('target', 'TISI')): -0.06574960798025131, (('source', 'relationship_type'), ('target', 'Descr')): -0.06581437587738037, (('source', 'assay_strain'), ('target', 'RELATIT')): -0.06600165367126465, (('source', 'description'), ('target', 'CONSCO')): -0.06627842783927917, (('source', 'assay_organism'), ('target', 'TISI')): -0.06649338454008102, (('source', 'relationship_type'), ('target', 'ASTAI')): -0.06651398539543152, (('source', 'description'), ('target', 'CUB')): -0.06656499207019806, (('source', 'assay_cell_type'), ('target', 'ASSTT')): -0.06659926474094391, (('source', 'src_id'), ('target', 'ASSUBFR')): -0.06667876988649368, (('source', 'assay_strain'), ('target', 'ASSUBFR')): -0.06693463772535324, (('source', 'curated_by'), ('target', 'ASTAI')): -0.0672941654920578, (('source', 'tissue_id'), ('target', 'ASSUBFR')): -0.06734070926904678, (('source', 'tissue_id'), ('target', 'Descr')): -0.06735740602016449, (('source', 'relationship_type'), ('target', 'CUB')): -0.06753362715244293, (('source', 'cell_id'), ('target', 'CUB')): -0.06779298931360245, (('source', 'assay_subcellular_fraction'), ('target', 'TISI')): -0.06799446046352386, (('source', 'assay_subcellular_fraction'), ('target', 'CEI')): -0.06803514063358307, (('source', 'curated_by'), ('target', 'TISI')): -0.06815026700496674, (('source', 'assay_subcellular_fraction'), ('target', 'Descr')): -0.0681677758693695, (('source', 'relationship_type'), ('target', 'CHI')): -0.06830894201993942, (('source', 'assay_cell_type'), ('target', 'ASTAI')): -0.06834423542022705, (('source', 'curated_by'), ('target', 'ASSTT')): -0.06844564527273178, (('source', 'description'), ('target', 'ASSTT')): -0.06851303577423096, (('source', 'curated_by'), ('target', 'ASSUBFR')): -0.06901246309280396, (('source', 'cell_id'), ('target', 'TISI')): -0.06902893632650375, (('source', 'curated_by'), ('target', 'CONSCO')): -0.06906820833683014, (('source', 'src_id'), ('target', 'ASTAI')): -0.06907659769058228, (('source', 'tissue_id'), ('target', 'CUB')): -0.0692347064614296, (('source', 'cell_id'), ('target', 'Ti')): -0.06925637274980545, (('source', 'tissue_id'), ('target', 'SRI')): -0.06932789087295532, (('source', 'curated_by'), ('target', 'CEI')): -0.06938993185758591, (('source', 'assay_cell_type'), ('target', 'ASSUBFR')): -0.06939608603715897, (('source', 'assay_type'), ('target', 'CUB')): -0.06960754841566086, (('source', 'assay_subcellular_fraction'), ('target', 'SRI')): -0.06971973180770874, (('source', 'cell_id'), ('target', 'Descr')): -0.06991513073444366, (('source', 'assay_test_type'), ('target', 'TISI')): -0.06999519467353821, (('source', 'tissue_id'), ('target', 'CONSCO')): -0.0702616348862648, (('source', 'assay_subcellular_fraction'), ('target', 'CUB')): -0.07051195204257965, (('source', 'assay_tax_id'), ('target', 'CUB')): -0.07053814083337784, (('source', 'assay_test_type'), ('target', 'SRI')): -0.07062289118766785, (('source', 'src_id'), ('target', 'ASSTT')): -0.07072483003139496, (('source', 'src_id'), ('target', 'CHI')): -0.0707392692565918, (('source', 'assay_tax_id'), ('target', 'ASSTT')): -0.07085318118333817, (('source', 'curated_by'), ('target', 'RELATIT')): -0.07126268744468689, (('source', 'tissue_id'), ('target', 'CHI')): -0.071281298995018, (('source', 'assay_organism'), ('target', 'RELATIT')): -0.07130712270736694, (('source', 'tissue_id'), ('target', 'CEI')): -0.07135481387376785, (('source', 'assay_tissue'), ('target', 'RELATIT')): -0.07146342843770981, (('source', 'relationship_type'), ('target', 'SRI')): -0.07174939662218094, (('source', 'doc_id'), ('target', 'ASSUBFR')): -0.07200571894645691, (('source', 'assay_strain'), ('target', 'Descr')): -0.07263928651809692, (('source', 'assay_test_type'), ('target', 'CHI')): -0.07301736623048782, (('source', 'description'), ('target', 'SRI')): -0.07321443408727646, (('source', 'assay_type'), ('target', 'SRI')): -0.0734928771853447, (('source', 'assay_subcellular_fraction'), ('target', 'Ti')): -0.07357332855463028, (('source', 'src_id'), ('target', 'RELATIT')): -0.07387824356555939, (('source', 'description'), ('target', 'TISI')): -0.07397406548261642, (('source', 'assay_type'), ('target', 'RELATIT')): -0.074094757437706, (('source', 'doc_id'), ('target', 'SRI')): -0.07410931587219238, (('source', 'src_id'), ('target', 'CEI')): -0.07414872199296951, (('source', 'tissue_id'), ('target', 'ASSTT')): -0.07419876754283905, (('source', 'description'), ('target', 'ASSUBFR')): -0.07447616755962372, (('source', 'cell_id'), ('target', 'SRI')): -0.07448352873325348, (('source', 'assay_tax_id'), ('target', 'RELATIT')): -0.0745672658085823, (('source', 'assay_cell_type'), ('target', 'CEI')): -0.07540823519229889, (('source', 'description'), ('target', 'RELATIT')): -0.07588258385658264, (('source', 'assay_subcellular_fraction'), ('target', 'CHI')): -0.07592149078845978, (('source', 'description'), ('target', 'CEI')): -0.07637660205364227, (('source', 'assay_type'), ('target', 'ASSI')): -0.07645659148693085, (('source', 'relationship_type'), ('target', 'Ti')): -0.07671500742435455, (('source', 'assay_tax_id'), ('target', 'SRI')): -0.07699362933635712, (('source', 'cell_id'), ('target', 'CHI')): -0.07778281718492508, (('source', 'assay_strain'), ('target', 'SRI')): -0.07853121310472488, (('source', 'assay_tissue'), ('target', 'TISI')): -0.07879281044006348, (('source', 'assay_tissue'), ('target', 'SRI')): -0.07942221313714981, (('source', 'relationship_type'), ('target', 'CONSCO')): -0.07973188161849976, (('source', 'assay_tissue'), ('target', 'ASSTT')): -0.07981091737747192, (('source', 'assay_organism'), ('target', 'SRI')): -0.08024459332227707, (('source', 'assay_cell_type'), ('target', 'CONSCO')): -0.08082616329193115, (('source', 'assay_tissue'), ('target', 'ASTAI')): -0.08103006333112717, (('source', 'assay_tissue'), ('target', 'CHI')): -0.0811183899641037, (('source', 'assay_tax_id'), ('target', 'CONSCO')): -0.0813065692782402, (('source', 'assay_tax_id'), ('target', 'Ti')): -0.08136885613203049, (('source', 'assay_type'), ('target', 'ASSUBFR')): -0.0815325379371643, (('source', 'assay_type'), ('target', 'ASTAI')): -0.0815654844045639, (('source', 'description'), ('target', 'ASSI')): -0.08200042694807053, (('source', 'assay_tax_id'), ('target', 'CHI')): -0.08212496340274811, (('source', 'src_id'), ('target', 'Ti')): -0.08221093565225601, (('source', 'tissue_id'), ('target', 'BFOR')): -0.08272285014390945, (('source', 'assay_subcellular_fraction'), ('target', 'BFOR')): -0.08304636180400848, (('source', 'relationship_type'), ('target', 'ASSI')): -0.08345106989145279, (('source', 'assay_id'), ('target', 'ASTAI')): -0.08351705968379974, (('source', 'assay_type'), ('target', 'CHI')): -0.08385953307151794, (('source', 'description'), ('target', 'Ti')): -0.08390798419713974, (('source', 'assay_subcellular_fraction'), ('target', 'CONSCO')): -0.08429291099309921, (('source', 'assay_tissue'), ('target', 'CEI')): -0.08577752858400345, (('source', 'assay_organism'), ('target', 'CEI')): -0.08605236560106277, (('source', 'assay_cell_type'), ('target', 'CUB')): -0.08613555878400803, (('source', 'relationship_type'), ('target', 'BFOR')): -0.08622191101312637, (('source', 'src_id'), ('target', 'ASSI')): -0.0871473178267479, (('source', 'assay_cell_type'), ('target', 'BFOR')): -0.08864259719848633, (('source', 'curated_by'), ('target', 'BFOR')): -0.08869209885597229, (('source', 'curated_by'), ('target', 'CHI')): -0.08992782235145569, (('source', 'assay_organism'), ('target', 'ASSTT')): -0.09132260084152222, (('source', 'assay_tax_id'), ('target', 'ASSI')): -0.09192296117544174, (('source', 'assay_id'), ('target', 'ASSTT')): -0.09255540370941162, (('source', 'assay_type'), ('target', 'BFOR')): -0.09303372353315353, (('source', 'assay_organism'), ('target', 'Descr')): -0.09376796334981918, (('source', 'assay_tissue'), ('target', 'Ti')): -0.09378131479024887, (('source', 'assay_test_type'), ('target', 'ASSI')): -0.0941324532032013, (('source', 'assay_organism'), ('target', 'ASTAI')): -0.09425688534975052, (('source', 'src_id'), ('target', 'BFOR')): -0.09592704474925995, (('source', 'assay_strain'), ('target', 'BFOR')): -0.09674075245857239, (('source', 'tissue_id'), ('target', 'ASSI')): -0.09736471623182297, (('source', 'assay_id'), ('target', 'CUB')): -0.09939184039831161, (('source', 'curated_by'), ('target', 'ASSI')): -0.09949822723865509, (('source', 'assay_organism'), ('target', 'ASSUBFR')): -0.1012054830789566, (('source', 'cell_id'), ('target', 'BFOR')): -0.10265703499317169, (('source', 'description'), ('target', 'BFOR')): -0.10314453393220901, (('source', 'assay_subcellular_fraction'), ('target', 'ASSI')): -0.1045985296368599, (('source', 'cell_id'), ('target', 'ASSI')): -0.10536643117666245, (('source', 'assay_id'), ('target', 'SRI')): -0.10793411731719971, (('source', 'assay_strain'), ('target', 'CONSCO')): -0.10816681385040283, (('source', 'doc_id'), ('target', 'BFOR')): -0.10962383449077606, (('source', 'assay_tax_id'), ('target', 'BFOR')): -0.11048107594251633, (('source', 'assay_tissue'), ('target', 'CONSCO')): -0.11075156927108765, (('source', 'assay_test_type'), ('target', 'BFOR')): -0.11119604110717773, (('source', 'doc_id'), ('target', 'CUB')): -0.11156697571277618, (('source', 'assay_cell_type'), ('target', 'ASSI')): -0.11262433975934982, (('source', 'assay_type'), ('target', 'Ti')): -0.11357851326465607, (('source', 'doc_id'), ('target', 'ASSTT')): -0.11457403749227524, (('source', 'assay_id'), ('target', 'BFOR')): -0.11835354566574097, (('source', 'doc_id'), ('target', 'ASTAI')): -0.11949232965707779, (('source', 'doc_id'), ('target', 'CONSCO')): -0.12089122831821442, (('source', 'assay_id'), ('target', 'Descr')): -0.12212781608104706, (('source', 'assay_id'), ('target', 'ASSUBFR')): -0.1248663142323494, (('source', 'assay_tissue'), ('target', 'ASSI')): -0.13281644880771637, (('source', 'assay_id'), ('target', 'CHI')): -0.13464751839637756, (('source', 'doc_id'), ('target', 'RELATIT')): -0.1469094306230545, (('source', 'assay_organism'), ('target', 'ASSI')): -0.14819538593292236, (('source', 'assay_id'), ('target', 'TISI')): -0.1611894965171814, (('source', 'assay_id'), ('target', 'CEI')): -0.17872928082942963, (('source', 'doc_id'), ('target', 'Ti')): -0.23821693658828735}\n",
      "100%|██████████| 667/667 [05:01<00:00,  2.21it/s]\n"
     ]
    }
   ],
   "source": [
    "isresmat.do_trn(0)\n",
    "matches = isresmat.get_matches(top_k=50)\n",
    "# isresmat.eval_to_match()\n",
    "# isresmat.get_matches(top_k=2)\n",
    "# isresmat.update_curr_match_status()"
   ]
  },
  {
   "cell_type": "code",
   "execution_count": 5,
   "id": "cd24b2a3-5fac-468e-8f0c-36c785c51cf3",
   "metadata": {},
   "outputs": [],
   "source": [
    "import torch\n",
    "\n",
    "torch.save(isresmat.model.state_dict(), \"checkpoint/checkpoint.pt\")"
   ]
  },
  {
   "cell_type": "code",
   "execution_count": 15,
   "id": "c5b0a83a-7c33-4def-9c0e-8ee3fbd3d42a",
   "metadata": {
    "scrolled": true
   },
   "outputs": [
    {
     "data": {
      "text/plain": [
       "BertFoMatching(\n",
       "  (bert): BertModel(\n",
       "    (embeddings): BertEmbeddings(\n",
       "      (word_embeddings): Embedding(30522, 768, padding_idx=0)\n",
       "      (position_embeddings): Embedding(512, 768)\n",
       "      (token_type_embeddings): Embedding(2, 768)\n",
       "      (LayerNorm): LayerNorm((768,), eps=1e-12, elementwise_affine=True)\n",
       "      (dropout): Dropout(p=0.1, inplace=False)\n",
       "    )\n",
       "    (encoder): BertEncoder(\n",
       "      (layer): ModuleList(\n",
       "        (0-11): 12 x BertLayer(\n",
       "          (attention): BertAttention(\n",
       "            (self): BertSdpaSelfAttention(\n",
       "              (query): Linear(in_features=768, out_features=768, bias=True)\n",
       "              (key): Linear(in_features=768, out_features=768, bias=True)\n",
       "              (value): Linear(in_features=768, out_features=768, bias=True)\n",
       "              (dropout): Dropout(p=0.1, inplace=False)\n",
       "            )\n",
       "            (output): BertSelfOutput(\n",
       "              (dense): Linear(in_features=768, out_features=768, bias=True)\n",
       "              (LayerNorm): LayerNorm((768,), eps=1e-12, elementwise_affine=True)\n",
       "              (dropout): Dropout(p=0.1, inplace=False)\n",
       "            )\n",
       "          )\n",
       "          (intermediate): BertIntermediate(\n",
       "            (dense): Linear(in_features=768, out_features=3072, bias=True)\n",
       "            (intermediate_act_fn): GELUActivation()\n",
       "          )\n",
       "          (output): BertOutput(\n",
       "            (dense): Linear(in_features=3072, out_features=768, bias=True)\n",
       "            (LayerNorm): LayerNorm((768,), eps=1e-12, elementwise_affine=True)\n",
       "            (dropout): Dropout(p=0.1, inplace=False)\n",
       "          )\n",
       "        )\n",
       "      )\n",
       "    )\n",
       "    (pooler): BertPooler(\n",
       "      (dense): Linear(in_features=768, out_features=768, bias=True)\n",
       "      (activation): Tanh()\n",
       "    )\n",
       "  )\n",
       "  (dropout): Dropout(p=0.1, inplace=False)\n",
       "  (projector): Sequential(\n",
       "    (0): Linear(in_features=768, out_features=512, bias=True)\n",
       "    (1): ReLU()\n",
       "    (2): Linear(in_features=512, out_features=512, bias=True)\n",
       "  )\n",
       "  (src_agents_layer): AgentsLayer()\n",
       "  (tgt_agents_layer): AgentsLayer()\n",
       "  (CE_loss_func): CrossEntropyLoss()\n",
       "  (KL_loss_func): KLDivLoss()\n",
       ")"
      ]
     },
     "execution_count": 15,
     "metadata": {},
     "output_type": "execute_result"
    }
   ],
   "source": [
    "\n",
    "isresmat.model.load_state_dict(torch.load(\"checkpoint/checkpoint.pt\", weights_only=True))\n",
    "isresmat.model.eval()"
   ]
  },
  {
   "cell_type": "code",
   "execution_count": 5,
   "id": "ddb655f0-e7dd-48cb-a776-d5185b0d7b58",
   "metadata": {
    "scrolled": true
   },
   "outputs": [
    {
     "name": "stderr",
     "output_type": "stream",
     "text": [
      "2024-10-15 02:12:25 INFO begin the eval-to-match process\n",
      "100%|██████████| 1196/1196 [01:33<00:00, 12.78it/s]\n",
      "100%|██████████| 3059/3059 [04:05<00:00, 12.45it/s]\n",
      "IOPub data rate exceeded.\n",
      "The Jupyter server will temporarily stop sending output\n",
      "to the client in order to avoid crashing it.\n",
      "To change this limit, set the config variable\n",
      "`--ServerApp.iopub_data_rate_limit`.\n",
      "\n",
      "Current values:\n",
      "ServerApp.iopub_data_rate_limit=1000000.0 (bytes/sec)\n",
      "ServerApp.rate_limit_window=3.0 (secs)\n",
      "\n",
      "2024-10-15 02:21:51 CRITICAL top_ground_truth_matches----------->[frozenset({('source', 'excluded_in_downstream_analysis'), ('target', 'to_trim_adapter_sequence')}), frozenset({('target', 'selected_normal_wxs'), ('source', 'excluded_in_downstream_analysis')}), frozenset({('source', 'excluded_in_downstream_analysis'), ('target', 'age_is_obfuscated')}), frozenset({('target', 'awg_review'), ('source', 'excluded_in_downstream_analysis')}), frozenset({('target', 'submission_enabled'), ('source', 'excluded_in_downstream_analysis')}), frozenset({('source', 'PN'), ('target', 'uicc_pathologic_n')}), frozenset({('target', 'annotated_somatic_mutations'), ('source', 'CDKN2A.pathway.alteration')}), frozenset({('source', 'CDKN2A.pathway.alteration'), ('target', 'somatic_mutation_indexes')}), frozenset({('target', 'masked_somatic_mutations'), ('source', 'CDKN2A.pathway.alteration')}), frozenset({('source', 'FIGO_stage'), ('target', 'ajcc_clinical_m')}), frozenset({('source', 'PN'), ('target', 'ajcc_pathologic_n')}), frozenset({('source', 'tumor_stage'), ('target', 'ensat_pathologic_stage')}), frozenset({('source', 'FIGO_stage'), ('target', 'uicc_pathologic_m')}), frozenset({('source', 'FIGO_stage'), ('target', 'uicc_clinical_m')}), frozenset({('source', 'PN'), ('target', 'uicc_clinical_n')}), frozenset({('target', 'undescended_testis_corrected_laterality'), ('source', 'tumor_laterality')}), frozenset({('source', 'tumor_Stage-Pathological'), ('target', 'ensat_pathologic_stage')}), frozenset({('source', 'PN'), ('target', 'ajcc_clinical_n')}), frozenset({('source', 'excluded_in_downstream_analysis'), ('target', 'no_matched_normal_targeted_sequencing')}), frozenset({('source', 'age'), ('target', 'percent_tumor_invasion')}), frozenset({('source', 'Tumor_Stage_Pathological'), ('target', 'ensat_pathologic_stage')}), frozenset({('source', 'ethnicity'), ('target', 'ethnicity')}), frozenset({('source', 'FIGO_stage'), ('target', 'ajcc_pathologic_m')})]\n"
     ]
    }
   ],
   "source": [
    "isresmat.eval_to_match()\n",
    "matches = isresmat.get_matches(top_k=40)\n",
    "isresmat.update_curr_match_status()"
   ]
  },
  {
   "cell_type": "code",
   "execution_count": 4,
   "id": "0eaede04-1785-4711-8c11-3e57422db98a",
   "metadata": {
    "scrolled": true
   },
   "outputs": [],
   "source": [
    "isresmat.save_final_info()"
   ]
  },
  {
   "cell_type": "code",
   "execution_count": null,
   "id": "4910da7d-3831-49b4-8592-41c875da9c29",
   "metadata": {},
   "outputs": [],
   "source": []
  },
  {
   "cell_type": "code",
   "execution_count": null,
   "id": "3fa9a811-9250-47e3-b469-148fb9dc26b6",
   "metadata": {},
   "outputs": [],
   "source": [
    "from valentine.algorithms.matcher_results import MatcherResults\n",
    "\n",
    "vmatches = MatcherResults(matches)\n",
    "ground_truth = pd.read_csv(golden_mappings)\n",
    "gt_set = set()\n",
    "for row in ground_truth.itertuples():\n",
    "    gt_set.add((row.source, row.target))\n",
    "\n",
    "vmatches.get_metrics(gt_set)"
   ]
  },
  {
   "cell_type": "code",
   "execution_count": null,
   "id": "fb786db1-0db2-4372-877c-cc3996387051",
   "metadata": {},
   "outputs": [],
   "source": []
  }
 ],
 "metadata": {
  "kernelspec": {
   "display_name": "my_env",
   "language": "python",
   "name": "my_env"
  },
  "language_info": {
   "codemirror_mode": {
    "name": "ipython",
    "version": 3
   },
   "file_extension": ".py",
   "mimetype": "text/x-python",
   "name": "python",
   "nbconvert_exporter": "python",
   "pygments_lexer": "ipython3",
   "version": "3.10.9"
  }
 },
 "nbformat": 4,
 "nbformat_minor": 5
}
