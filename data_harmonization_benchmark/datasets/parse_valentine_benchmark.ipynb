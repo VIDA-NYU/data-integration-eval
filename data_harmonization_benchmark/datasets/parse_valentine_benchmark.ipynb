{
 "cells": [
  {
   "cell_type": "code",
   "execution_count": 1,
   "id": "3723234b-10b7-4406-9084-3842f7d6ac0b",
   "metadata": {},
   "outputs": [],
   "source": [
    "import pandas as pd\n",
    "import json\n",
    "import os\n",
    "\n",
    "root = \"./\"\n",
    "\n",
    "def read_json_file(path):\n",
    "    json_files = [pos_json for pos_json in os.listdir(path) if pos_json.endswith('.json')]\n",
    "    if not json_files:\n",
    "        return\n",
    "    \n",
    "    json_file = json_files[0]\n",
    "\n",
    "    df_dict = {\n",
    "        \"source\": [],\n",
    "        \"target\": []\n",
    "    }\n",
    "    \n",
    "    with open(os.path.join(path, json_file)) as f:\n",
    "        d = json.load(f)\n",
    "        print(d)\n",
    "\n",
    "        for match in d['matches']:\n",
    "            print(match[\"source_column\"], match[\"target_column\"])\n",
    "            df_dict[\"source\"].append(match[\"source_column\"])\n",
    "            df_dict[\"target\"].append(match[\"target_column\"])\n",
    "    os.remove(os.path.join(path, json_file))\n",
    "    return pd.DataFrame(df_dict)"
   ]
  },
  {
   "cell_type": "code",
   "execution_count": 2,
   "id": "dc4304ad-5f16-4b9c-b5e0-331d68897731",
   "metadata": {},
   "outputs": [
    {
     "name": "stdout",
     "output_type": "stream",
     "text": [
      "Musicians_viewunion\n",
      "{'matches': [{'source_table': 'musicians_viewunion_source', 'source_column': 'musician', 'target_table': 'musicians_viewunion_target', 'target_column': 'musicianID'}, {'source_table': 'musicians_viewunion_source', 'source_column': 'birthDate', 'target_table': 'musicians_viewunion_target', 'target_column': 'birthDate'}, {'source_table': 'musicians_viewunion_source', 'source_column': 'familyNameLabel', 'target_table': 'musicians_viewunion_target', 'target_column': 'familyName'}, {'source_table': 'musicians_viewunion_source', 'source_column': 'givenNameLabel', 'target_table': 'musicians_viewunion_target', 'target_column': 'forename'}, {'source_table': 'musicians_viewunion_source', 'source_column': 'numberOfChildren', 'target_table': 'musicians_viewunion_target', 'target_column': 'NChildren'}, {'source_table': 'musicians_viewunion_source', 'source_column': 'websiteLabel', 'target_table': 'musicians_viewunion_target', 'target_column': 'webpage'}]}\n",
      "musician musicianID\n",
      "birthDate birthDate\n",
      "familyNameLabel familyName\n",
      "givenNameLabel forename\n",
      "numberOfChildren NChildren\n",
      "websiteLabel webpage\n",
      "dou\n",
      "vasaikar\n",
      "beeradvo_ratebeer\n",
      "cao\n",
      "fodors_zagats\n",
      "Musicians_joinable\n",
      "{'matches': [{'source_table': 'musicians_joinable_source', 'source_column': 'musician', 'target_table': 'musicians_joinable_target', 'target_column': 'musicianID'}, {'source_table': 'musicians_joinable_source', 'source_column': 'birthDate', 'target_table': 'musicians_joinable_target', 'target_column': 'birthDate'}, {'source_table': 'musicians_joinable_source', 'source_column': 'familyNameLabel', 'target_table': 'musicians_joinable_target', 'target_column': 'familyName'}, {'source_table': 'musicians_joinable_source', 'source_column': 'givenNameLabel', 'target_table': 'musicians_joinable_target', 'target_column': 'forename'}, {'source_table': 'musicians_joinable_source', 'source_column': 'numberOfChildren', 'target_table': 'musicians_joinable_target', 'target_column': 'NChildren'}, {'source_table': 'musicians_joinable_source', 'source_column': 'websiteLabel', 'target_table': 'musicians_joinable_target', 'target_column': 'webpage'}]}\n",
      "musician musicianID\n",
      "birthDate birthDate\n",
      "familyNameLabel familyName\n",
      "givenNameLabel forename\n",
      "numberOfChildren NChildren\n",
      "websiteLabel webpage\n",
      "Musicians_semjoinable\n",
      "{'matches': [{'source_table': 'musicians_semjoinable_source', 'source_column': 'musician', 'target_table': 'musicians_semjoinable_target', 'target_column': 'musicianID'}, {'source_table': 'musicians_semjoinable_source', 'source_column': 'musicianLabel', 'target_table': 'musicians_semjoinable_target', 'target_column': 'musicianName'}, {'source_table': 'musicians_semjoinable_source', 'source_column': 'genderLabel', 'target_table': 'musicians_semjoinable_target', 'target_column': 'genderType'}, {'source_table': 'musicians_semjoinable_source', 'source_column': 'cityLabel', 'target_table': 'musicians_semjoinable_target', 'target_column': 'city'}, {'source_table': 'musicians_semjoinable_source', 'source_column': 'fatherLabel', 'target_table': 'musicians_semjoinable_target', 'target_column': 'fatherName'}, {'source_table': 'musicians_semjoinable_source', 'source_column': 'motherLabel', 'target_table': 'musicians_semjoinable_target', 'target_column': 'motherName'}, {'source_table': 'musicians_semjoinable_source', 'source_column': 'partner', 'target_table': 'musicians_semjoinable_target', 'target_column': 'spouse'}, {'source_table': 'musicians_semjoinable_source', 'source_column': 'genreLabel', 'target_table': 'musicians_semjoinable_target', 'target_column': 'kind'}]}\n",
      "musician musicianID\n",
      "musicianLabel musicianName\n",
      "genderLabel genderType\n",
      "cityLabel city\n",
      "fatherLabel fatherName\n",
      "motherLabel motherName\n",
      "partner spouse\n",
      "genreLabel kind\n",
      "huang\n",
      ".ipynb_checkpoints\n",
      "Musicians_unionable\n",
      "{'matches': [{'source_table': 'musicians_unionable_source', 'source_column': 'musician', 'target_table': 'musicians_unionable_target', 'target_column': 'musicianID'}, {'source_table': 'musicians_unionable_source', 'source_column': 'musicianLabel', 'target_table': 'musicians_unionable_target', 'target_column': 'musicianName'}, {'source_table': 'musicians_unionable_source', 'source_column': 'genderLabel', 'target_table': 'musicians_unionable_target', 'target_column': 'genderType'}, {'source_table': 'musicians_unionable_source', 'source_column': 'birthDate', 'target_table': 'musicians_unionable_target', 'target_column': 'birthDate'}, {'source_table': 'musicians_unionable_source', 'source_column': 'cityLabel', 'target_table': 'musicians_unionable_target', 'target_column': 'city'}, {'source_table': 'musicians_unionable_source', 'source_column': 'familyNameLabel', 'target_table': 'musicians_unionable_target', 'target_column': 'familyName'}, {'source_table': 'musicians_unionable_source', 'source_column': 'givenNameLabel', 'target_table': 'musicians_unionable_target', 'target_column': 'forename'}, {'source_table': 'musicians_unionable_source', 'source_column': 'fatherLabel', 'target_table': 'musicians_unionable_target', 'target_column': 'fatherName'}, {'source_table': 'musicians_unionable_source', 'source_column': 'motherLabel', 'target_table': 'musicians_unionable_target', 'target_column': 'motherName'}, {'source_table': 'musicians_unionable_source', 'source_column': 'partner', 'target_table': 'musicians_unionable_target', 'target_column': 'spouse'}, {'source_table': 'musicians_unionable_source', 'source_column': 'numberOfChildren', 'target_table': 'musicians_unionable_target', 'target_column': 'NChildren'}, {'source_table': 'musicians_unionable_source', 'source_column': 'genreLabel', 'target_table': 'musicians_unionable_target', 'target_column': 'kind'}, {'source_table': 'musicians_unionable_source', 'source_column': 'websiteLabel', 'target_table': 'musicians_unionable_target', 'target_column': 'webpage'}, {'source_table': 'musicians_unionable_source', 'source_column': 'residenceLabel', 'target_table': 'musicians_unionable_target', 'target_column': 'residence'}, {'source_table': 'musicians_unionable_source', 'source_column': 'ethnicityLabel', 'target_table': 'musicians_unionable_target', 'target_column': 'ethnicity'}, {'source_table': 'musicians_unionable_source', 'source_column': 'religionLabel', 'target_table': 'musicians_unionable_target', 'target_column': 'religionLabel'}, {'source_table': 'musicians_unionable_source', 'source_column': 'activityStart', 'target_table': 'musicians_unionable_target', 'target_column': 'kickoff'}, {'source_table': 'musicians_unionable_source', 'source_column': 'twitterNameLabel', 'target_table': 'musicians_unionable_target', 'target_column': 'twitterUsername'}, {'source_table': 'musicians_unionable_source', 'source_column': 'geniusNameLabel', 'target_table': 'musicians_unionable_target', 'target_column': 'geniusNameLabel'}, {'source_table': 'musicians_unionable_source', 'source_column': 'recordLabelLabel', 'target_table': 'musicians_unionable_target', 'target_column': 'recordCompany'}]}\n",
      "musician musicianID\n",
      "musicianLabel musicianName\n",
      "genderLabel genderType\n",
      "birthDate birthDate\n",
      "cityLabel city\n",
      "familyNameLabel familyName\n",
      "givenNameLabel forename\n",
      "fatherLabel fatherName\n",
      "motherLabel motherName\n",
      "partner spouse\n",
      "numberOfChildren NChildren\n",
      "genreLabel kind\n",
      "websiteLabel webpage\n",
      "residenceLabel residence\n",
      "ethnicityLabel ethnicity\n",
      "religionLabel religionLabel\n",
      "activityStart kickoff\n",
      "twitterNameLabel twitterUsername\n",
      "geniusNameLabel geniusNameLabel\n",
      "recordLabelLabel recordCompany\n",
      "dblp_acm\n",
      "wang\n",
      "itunes_amazon\n",
      "clark\n",
      "amazon_google_exp\n",
      "satpathy\n",
      "krug\n",
      "dblp_scholar\n",
      "walmart_amazon\n",
      ".ipynb_checkpoints\n",
      ".ipynb_checkpoints\n",
      ".ipynb_checkpoints\n",
      ".ipynb_checkpoints\n",
      ".ipynb_checkpoints\n",
      ".ipynb_checkpoints\n"
     ]
    }
   ],
   "source": [
    "\n",
    "for _, dirs, _ in os.walk(root):\n",
    "    for dir in dirs:\n",
    "        print(dir)\n",
    "        df = read_json_file(dir)\n",
    "        if df is None:\n",
    "            continue\n",
    "\n",
    "        df.to_csv(os.path.join(dir, 'groundtruth.csv'), index=False)\n",
    "\n",
    "        \n",
    "        for file in os.listdir(dir):\n",
    "            if \"source\" in file:\n",
    "                os.rename(os.path.join(dir, file), os.path.join(dir, \"source.csv\"))\n",
    "            elif \"target\" in file:\n",
    "                os.rename(os.path.join(dir, file), os.path.join(dir, \"target.csv\"))\n",
    "        \n",
    "        "
   ]
  },
  {
   "cell_type": "code",
   "execution_count": 10,
   "id": "b552f772-b134-42f2-964c-7307e4e81972",
   "metadata": {},
   "outputs": [
    {
     "name": "stdout",
     "output_type": "stream",
     "text": [
      "id id\n",
      "title title\n",
      "manufacturer manufacturer\n",
      "price price\n"
     ]
    }
   ],
   "source": [
    "df_dict = {\n",
    "    \"source\": [],\n",
    "    \"target\": []\n",
    "}\n",
    "for match in d['matches']:\n",
    "    print(match[\"source_column\"], match[\"target_column\"])\n",
    "    df_dict[\"source\"].append(match[\"source_column\"])\n",
    "    df_dict[\"target\"].append(match[\"target_column\"])\n",
    "\n",
    "df = pd.DataFrame(df_dict)\n",
    "df.to_csv('groundtruth.csv', index=False)"
   ]
  },
  {
   "cell_type": "code",
   "execution_count": null,
   "id": "7c2fbfb6-677f-481c-a0c2-4158e5f11ead",
   "metadata": {},
   "outputs": [],
   "source": [
    "\n",
    "df_dict = {\n",
    "    \"source\": [\"id\", \"title\", ],\n",
    "    \"target\": [\"id\", \"title\"],\n",
    "}"
   ]
  },
  {
   "cell_type": "code",
   "execution_count": null,
   "id": "1fb7cf30-23a3-44a1-a91b-f3c6d5ddd0a6",
   "metadata": {},
   "outputs": [],
   "source": []
  },
  {
   "cell_type": "code",
   "execution_count": null,
   "id": "aee1ce26-17b0-4601-a436-dabb61238b64",
   "metadata": {},
   "outputs": [],
   "source": []
  },
  {
   "cell_type": "markdown",
   "id": "57552c1d-0387-4173-8da3-cb88363f36c9",
   "metadata": {},
   "source": [
    "## Biomedical Pretrain: Create joined dataset"
   ]
  },
  {
   "cell_type": "code",
   "execution_count": 5,
   "id": "98575394-3e1a-470c-b214-75eccbf66a36",
   "metadata": {},
   "outputs": [],
   "source": [
    "import os\n",
    "import pandas as pd\n",
    "\n",
    "usecases = [\"cao\", \"dou\", \"clark\", \"huang\", \"krug\", \"satpathy\", \"vasaikar\", \"wang\"]\n",
    "\n",
    "df_all = pd.DataFrame({})\n",
    "for usecase in usecases:\n",
    "    df = pd.read_csv(os.path.join(usecase, \"source.csv\")).sample(50)\n",
    "    df_all = pd.concat([df_all, df], sort=False)\n",
    "df_all\n",
    "\n",
    "df_all.to_csv(\"gdc_all/source.csv\", index=False)\n",
    "\n"
   ]
  },
  {
   "cell_type": "code",
   "execution_count": 9,
   "id": "d093907c-cbd9-4439-8eb9-68f2385ede2a",
   "metadata": {},
   "outputs": [],
   "source": [
    "train_usecases = [\"cao\", \"dou\", \"clark\"]\n",
    "\n",
    "gt_all = pd.DataFrame({})\n",
    "\n",
    "for usecase in train_usecases:\n",
    "    df = pd.read_csv(os.path.join(usecase, \"groundtruth.csv\"))\n",
    "    gt_all = pd.concat([gt_all, df], sort=False)\n",
    "gt_all = gt_all.drop_duplicates()\n",
    "gt_all\n",
    "\n",
    "gt_all.to_csv(\"gdc_all/groundtruth.csv\", index=False)"
   ]
  },
  {
   "cell_type": "code",
   "execution_count": null,
   "id": "9b8e6dd0-5256-4ce9-9e1c-47ecd2e0ee52",
   "metadata": {},
   "outputs": [],
   "source": []
  }
 ],
 "metadata": {
  "kernelspec": {
   "display_name": "my_env",
   "language": "python",
   "name": "my_env"
  },
  "language_info": {
   "codemirror_mode": {
    "name": "ipython",
    "version": 3
   },
   "file_extension": ".py",
   "mimetype": "text/x-python",
   "name": "python",
   "nbconvert_exporter": "python",
   "pygments_lexer": "ipython3",
   "version": "3.10.9"
  }
 },
 "nbformat": 4,
 "nbformat_minor": 5
}
