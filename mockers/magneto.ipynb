{
 "cells": [
  {
   "cell_type": "code",
   "execution_count": null,
   "metadata": {},
   "outputs": [],
   "source": [
    "import pandas as pd\n",
    "import os\n",
    "import sys\n",
    "from valentine import valentine_match\n",
    "\n",
    "\n",
    "sys.path.append(\"..\")\n",
    "\n",
    "from algorithms.schema_matching.magneto import Magneto"
   ]
  },
  {
   "cell_type": "code",
   "execution_count": null,
   "metadata": {},
   "outputs": [],
   "source": [
    "\n",
    "def run_magneto(df1, df2):\n",
    "\n",
    "    matcher = Magneto(\n",
    "        use_bp_reranker=False,\n",
    "        use_gpt_reranker=True,\n",
    "    )\n",
    "\n",
    "    matches = valentine_match(df1, df2, matcher)\n",
    "\n",
    "    print(\"Matches:\")\n",
    "    for m in matches:\n",
    "        print(m, matches[m])\n",
    "\n",
    "if __name__ == \"__main__\":\n",
    "    csv1 = sys.argv[1] if len(sys.argv) > 1 else None\n",
    "    csv2 = sys.argv[2] if len(sys.argv) > 2 else None\n",
    "    run_magneto(csv1, csv2)"
   ]
  },
  {
   "cell_type": "code",
   "execution_count": null,
   "metadata": {},
   "outputs": [],
   "source": []
  }
 ],
 "metadata": {
  "kernelspec": {
   "display_name": "Python 3 (ipykernel)",
   "language": "python",
   "name": "python3"
  },
  "language_info": {
   "codemirror_mode": {
    "name": "ipython",
    "version": 3
   },
   "file_extension": ".py",
   "mimetype": "text/x-python",
   "name": "python",
   "nbconvert_exporter": "python",
   "pygments_lexer": "ipython3",
   "version": "3.9.6"
  }
 },
 "nbformat": 4,
 "nbformat_minor": 4
}
